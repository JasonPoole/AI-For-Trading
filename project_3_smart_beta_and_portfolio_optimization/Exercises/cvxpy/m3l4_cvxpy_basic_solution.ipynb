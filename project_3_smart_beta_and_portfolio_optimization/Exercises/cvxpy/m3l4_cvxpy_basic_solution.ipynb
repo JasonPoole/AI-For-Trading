{
 "cells": [
  {
   "cell_type": "markdown",
   "metadata": {},
   "source": [
    "# Portfolio Optimization using cvxpy"
   ]
  },
  {
   "cell_type": "markdown",
   "metadata": {},
   "source": [
    "## Install cvxpy and other libraries"
   ]
  },
  {
   "cell_type": "code",
   "execution_count": 2,
   "metadata": {},
   "outputs": [
    {
     "name": "stdout",
     "output_type": "stream",
     "text": [
      "Requirement already satisfied: colour in /home/jason/.pyenv/versions/3.6.10/lib/python3.6/site-packages (from -r requirements.txt (line 1)) (0.1.5)\n",
      "Requirement already satisfied: cvxpy in /home/jason/.pyenv/versions/3.6.10/lib/python3.6/site-packages (from -r requirements.txt (line 2)) (1.0.3)\n",
      "Requirement already satisfied: cycler in /home/jason/.pyenv/versions/3.6.10/lib/python3.6/site-packages (from -r requirements.txt (line 3)) (0.10.0)\n",
      "Requirement already satisfied: numpy in /home/jason/.pyenv/versions/3.6.10/lib/python3.6/site-packages (from -r requirements.txt (line 4)) (1.14.5)\n",
      "Requirement already satisfied: pandas in /home/jason/.pyenv/versions/3.6.10/lib/python3.6/site-packages (from -r requirements.txt (line 5)) (0.21.1)\n",
      "Requirement already satisfied: plotly in /home/jason/.pyenv/versions/3.6.10/lib/python3.6/site-packages (from -r requirements.txt (line 6)) (2.2.3)\n",
      "Requirement already satisfied: pyparsing in /home/jason/.pyenv/versions/3.6.10/lib/python3.6/site-packages (from -r requirements.txt (line 7)) (2.2.0)\n",
      "Requirement already satisfied: python-dateutil in /home/jason/.pyenv/versions/3.6.10/lib/python3.6/site-packages (from -r requirements.txt (line 8)) (2.6.1)\n",
      "Requirement already satisfied: pytz in /home/jason/.pyenv/versions/3.6.10/lib/python3.6/site-packages (from -r requirements.txt (line 9)) (2017.3)\n",
      "Requirement already satisfied: requests in /home/jason/.pyenv/versions/3.6.10/lib/python3.6/site-packages (from -r requirements.txt (line 10)) (2.18.4)\n",
      "Requirement already satisfied: scipy in /home/jason/.pyenv/versions/3.6.10/lib/python3.6/site-packages (from -r requirements.txt (line 11)) (1.0.0)\n",
      "Requirement already satisfied: scikit-learn in /home/jason/.pyenv/versions/3.6.10/lib/python3.6/site-packages (from -r requirements.txt (line 12)) (0.19.1)\n",
      "Requirement already satisfied: six in /home/jason/.pyenv/versions/3.6.10/lib/python3.6/site-packages (from -r requirements.txt (line 13)) (1.11.0)\n",
      "Requirement already satisfied: tqdm in /home/jason/.pyenv/versions/3.6.10/lib/python3.6/site-packages (from -r requirements.txt (line 14)) (4.19.5)\n",
      "Requirement already satisfied: osqp in /home/jason/.pyenv/versions/3.6.10/lib/python3.6/site-packages (from cvxpy->-r requirements.txt (line 2)) (0.6.1)\n",
      "Requirement already satisfied: ecos>=2 in /home/jason/.pyenv/versions/3.6.10/lib/python3.6/site-packages (from cvxpy->-r requirements.txt (line 2)) (2.0.7.post1)\n",
      "Requirement already satisfied: scs>=1.1.3 in /home/jason/.pyenv/versions/3.6.10/lib/python3.6/site-packages (from cvxpy->-r requirements.txt (line 2)) (2.1.2)\n",
      "Requirement already satisfied: multiprocess in /home/jason/.pyenv/versions/3.6.10/lib/python3.6/site-packages (from cvxpy->-r requirements.txt (line 2)) (0.70.10)\n",
      "Requirement already satisfied: fastcache in /home/jason/.pyenv/versions/3.6.10/lib/python3.6/site-packages (from cvxpy->-r requirements.txt (line 2)) (1.1.0)\n",
      "Requirement already satisfied: toolz in /home/jason/.pyenv/versions/3.6.10/lib/python3.6/site-packages (from cvxpy->-r requirements.txt (line 2)) (0.10.0)\n",
      "Requirement already satisfied: decorator>=4.0.6 in /home/jason/.pyenv/versions/3.6.10/lib/python3.6/site-packages (from plotly->-r requirements.txt (line 6)) (4.4.2)\n",
      "Requirement already satisfied: nbformat>=4.2 in /home/jason/.pyenv/versions/3.6.10/lib/python3.6/site-packages (from plotly->-r requirements.txt (line 6)) (5.0.7)\n",
      "Requirement already satisfied: urllib3<1.23,>=1.21.1 in /home/jason/.pyenv/versions/3.6.10/lib/python3.6/site-packages (from requests->-r requirements.txt (line 10)) (1.22)\n",
      "Requirement already satisfied: chardet<3.1.0,>=3.0.2 in /home/jason/.pyenv/versions/3.6.10/lib/python3.6/site-packages (from requests->-r requirements.txt (line 10)) (3.0.4)\n",
      "Requirement already satisfied: certifi>=2017.4.17 in /home/jason/.pyenv/versions/3.6.10/lib/python3.6/site-packages (from requests->-r requirements.txt (line 10)) (2020.6.20)\n",
      "Requirement already satisfied: idna<2.7,>=2.5 in /home/jason/.pyenv/versions/3.6.10/lib/python3.6/site-packages (from requests->-r requirements.txt (line 10)) (2.6)\n",
      "Requirement already satisfied: future in /home/jason/.pyenv/versions/3.6.10/lib/python3.6/site-packages (from osqp->cvxpy->-r requirements.txt (line 2)) (0.18.2)\n",
      "Requirement already satisfied: dill>=0.3.2 in /home/jason/.pyenv/versions/3.6.10/lib/python3.6/site-packages (from multiprocess->cvxpy->-r requirements.txt (line 2)) (0.3.2)\n",
      "Requirement already satisfied: traitlets>=4.1 in /home/jason/.pyenv/versions/3.6.10/lib/python3.6/site-packages (from nbformat>=4.2->plotly->-r requirements.txt (line 6)) (4.3.3)\n",
      "Requirement already satisfied: jupyter-core in /home/jason/.pyenv/versions/3.6.10/lib/python3.6/site-packages (from nbformat>=4.2->plotly->-r requirements.txt (line 6)) (4.6.3)\n",
      "Requirement already satisfied: jsonschema!=2.5.0,>=2.4 in /home/jason/.pyenv/versions/3.6.10/lib/python3.6/site-packages (from nbformat>=4.2->plotly->-r requirements.txt (line 6)) (3.2.0)\n",
      "Requirement already satisfied: ipython-genutils in /home/jason/.pyenv/versions/3.6.10/lib/python3.6/site-packages (from nbformat>=4.2->plotly->-r requirements.txt (line 6)) (0.2.0)\n",
      "Requirement already satisfied: importlib-metadata; python_version < \"3.8\" in /home/jason/.pyenv/versions/3.6.10/lib/python3.6/site-packages (from jsonschema!=2.5.0,>=2.4->nbformat>=4.2->plotly->-r requirements.txt (line 6)) (1.7.0)\n",
      "Requirement already satisfied: setuptools in /home/jason/.pyenv/versions/3.6.10/lib/python3.6/site-packages (from jsonschema!=2.5.0,>=2.4->nbformat>=4.2->plotly->-r requirements.txt (line 6)) (40.6.2)\n",
      "Requirement already satisfied: attrs>=17.4.0 in /home/jason/.pyenv/versions/3.6.10/lib/python3.6/site-packages (from jsonschema!=2.5.0,>=2.4->nbformat>=4.2->plotly->-r requirements.txt (line 6)) (19.3.0)\n",
      "Requirement already satisfied: pyrsistent>=0.14.0 in /home/jason/.pyenv/versions/3.6.10/lib/python3.6/site-packages (from jsonschema!=2.5.0,>=2.4->nbformat>=4.2->plotly->-r requirements.txt (line 6)) (0.16.0)\n",
      "Requirement already satisfied: zipp>=0.5 in /home/jason/.pyenv/versions/3.6.10/lib/python3.6/site-packages (from importlib-metadata; python_version < \"3.8\"->jsonschema!=2.5.0,>=2.4->nbformat>=4.2->plotly->-r requirements.txt (line 6)) (3.1.0)\n"
     ]
    }
   ],
   "source": [
    "import sys\n",
    "!{sys.executable} -m pip install -r requirements.txt"
   ]
  },
  {
   "cell_type": "markdown",
   "metadata": {},
   "source": [
    "## Imports"
   ]
  },
  {
   "cell_type": "code",
   "execution_count": 3,
   "metadata": {},
   "outputs": [],
   "source": [
    "import cvxpy as cvx\n",
    "import numpy as np\n",
    "import quiz_tests"
   ]
  },
  {
   "cell_type": "markdown",
   "metadata": {},
   "source": [
    "# Quiz Solution"
   ]
  },
  {
   "cell_type": "code",
   "execution_count": null,
   "metadata": {},
   "outputs": [],
   "source": [
    "import cvxpy as cvx\n",
    "import numpy as np\n",
    "\n",
    "def optimize_twoasset_portfolio(varA, varB, rAB):\n",
    "    \"\"\"Create a function that takes in the variance of Stock A, the variance of\n",
    "    Stock B, and the correlation between Stocks A and B as arguments and returns \n",
    "    the vector of optimal weights\n",
    "    \n",
    "    Parameters\n",
    "    ----------\n",
    "    varA : float\n",
    "        The variance of Stock A.\n",
    "        \n",
    "    varB : float\n",
    "        The variance of Stock B.    \n",
    "        \n",
    "    rAB : float\n",
    "        The correlation between Stocks A and B.\n",
    "        \n",
    "    Returns\n",
    "    -------\n",
    "    x : np.ndarray\n",
    "        A 2-element numpy ndarray containing the weights on Stocks A and B,\n",
    "        [x_A, x_B], that minimize the portfolio variance.\n",
    "    \n",
    "    \"\"\"\n",
    "    # TODO: Use cvxpy to determine the weights on the assets in a 2-asset\n",
    "    # portfolio that minimize portfolio variance.\n",
    "    cov = np.sqrt(varA)*np.sqrt(varB)*rAB\n",
    "    x = cvx.Variable(2)\n",
    "    \n",
    "    P = np.array([[varA, cov],[cov, varB]])\n",
    "    objective = cvx.Minimize(cvx.quad_form(x,P))\n",
    "    constraints = [sum(x)==1]\n",
    "    problem = cvx.Problem(objective, constraints)\n",
    "    min_value = problem.solve()\n",
    "    xA,xB = x.value\n",
    "    \n",
    "    return xA, xB\n",
    "\n",
    "quiz_tests.test_optimize_twoasset_portfolio(optimize_twoasset_portfolio)"
   ]
  },
  {
   "cell_type": "code",
   "execution_count": null,
   "metadata": {},
   "outputs": [],
   "source": [
    "\"\"\"Test run optimize_twoasset_portfolio().\"\"\"\n",
    "xA,xB = optimize_twoasset_portfolio(0.1, 0.05, 0.25)\n",
    "print(\"Weight on Stock A: {:.6f}\".format(xA))\n",
    "print(\"Weight on Stock B: {:.6f}\".format(xB))"
   ]
  }
 ],
 "metadata": {
  "kernelspec": {
   "display_name": "Python 3",
   "language": "python",
   "name": "python3"
  },
  "language_info": {
   "codemirror_mode": {
    "name": "ipython",
    "version": 3
   },
   "file_extension": ".py",
   "mimetype": "text/x-python",
   "name": "python",
   "nbconvert_exporter": "python",
   "pygments_lexer": "ipython3",
   "version": "3.6.10"
  }
 },
 "nbformat": 4,
 "nbformat_minor": 4
}
