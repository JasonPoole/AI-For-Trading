{
 "cells": [
  {
   "cell_type": "markdown",
   "metadata": {},
   "source": [
    "# Short Overview"
   ]
  },
  {
   "cell_type": "markdown",
   "metadata": {},
   "source": [
    "Language may be a key part of intelligence as it allows us to digest concepts and then think about those concepts."
   ]
  },
  {
   "cell_type": "markdown",
   "metadata": {},
   "source": [
    "Computers are currently lagging behind, it is difficult for computers as there is a lot of ambiguity in human language, unlike math or programming."
   ]
  },
  {
   "cell_type": "markdown",
   "metadata": {},
   "source": [
    "Consider the sentences, \n",
    "\n",
    "> The sofa didn't fit through the door because it was too wide.  \n",
    "\n",
    "> The sofa didn't fit through the door because it was too narrow.\n",
    "\n",
    "Humans would understand that the object being referenced has changed in both sentences. In the first 'it' refers to the sofa and in the second 'it' refers to the door, computers would struggle."
   ]
  },
  {
   "cell_type": "markdown",
   "metadata": {},
   "source": [
    "## NLP Pipeline\n",
    "\n",
    "<img src=\"images/NLP_pipeline.png\" alt=\"NLP Pipeline\" width=\"500\"/>"
   ]
  },
  {
   "cell_type": "markdown",
   "metadata": {},
   "source": [
    "#### Text processing\n",
    "\n",
    "Why do we need to text process? \n",
    "\n",
    "Our source made be upmark, audio, image, this needs to be processed to raw text. We will want to remove capitalization so all words are treated the same etc.  "
   ]
  },
  {
   "cell_type": "markdown",
   "metadata": {},
   "source": [
    "#### Feature Extraction "
   ]
  },
  {
   "cell_type": "markdown",
   "metadata": {},
   "source": [
    "Now that we have clean raw text can we feed this? Not yet!\n",
    "\n",
    "Text data on computers is represented using an encoding such as ASCII or Unicode that maps every character to a number. "
   ]
  },
  {
   "cell_type": "markdown",
   "metadata": {},
   "source": [
    "The way we extract the features depends largely on the end goal.\n",
    "\n",
    "For example if we want a graph based model for insights then we may want to use symbolic nodes\n",
    "\n",
    "<img src='images/symbolic_nodes.png' width=400/>\n",
    "\n",
    "For tasks like sentiment analysis we may want to use a per document representation such as bag of words or doc2vec. "
   ]
  },
  {
   "cell_type": "markdown",
   "metadata": {},
   "source": [
    "#### Modeling"
   ]
  },
  {
   "cell_type": "markdown",
   "metadata": {},
   "source": [
    "If we extract numerical data then we can use all machine learning methods on it, decision trees, neutral networks etc."
   ]
  }
 ],
 "metadata": {
  "kernelspec": {
   "display_name": "Python 3",
   "language": "python",
   "name": "python3"
  },
  "language_info": {
   "codemirror_mode": {
    "name": "ipython",
    "version": 3
   },
   "file_extension": ".py",
   "mimetype": "text/x-python",
   "name": "python",
   "nbconvert_exporter": "python",
   "pygments_lexer": "ipython3",
   "version": "3.6.10"
  }
 },
 "nbformat": 4,
 "nbformat_minor": 4
}
