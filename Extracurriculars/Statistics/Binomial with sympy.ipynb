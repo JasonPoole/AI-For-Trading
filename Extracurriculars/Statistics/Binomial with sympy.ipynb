{
 "cells": [
  {
   "cell_type": "markdown",
   "metadata": {},
   "source": [
    "### Binomial Math with Sympy"
   ]
  },
  {
   "cell_type": "code",
   "execution_count": 2,
   "metadata": {},
   "outputs": [],
   "source": [
    "import sympy as sym "
   ]
  },
  {
   "cell_type": "markdown",
   "metadata": {},
   "source": [
    "Flipping 5 coins once, how many ways are there two get 3 heads?"
   ]
  },
  {
   "cell_type": "code",
   "execution_count": 3,
   "metadata": {},
   "outputs": [
    {
     "data": {
      "text/latex": [
       "$\\displaystyle 10$"
      ],
      "text/plain": [
       "10"
      ]
     },
     "execution_count": 3,
     "metadata": {},
     "output_type": "execute_result"
    }
   ],
   "source": [
    "sym.binomial(5,3)"
   ]
  },
  {
   "cell_type": "markdown",
   "metadata": {},
   "source": [
    "Printing Pascal's triangle"
   ]
  },
  {
   "cell_type": "code",
   "execution_count": 8,
   "metadata": {},
   "outputs": [
    {
     "name": "stdout",
     "output_type": "stream",
     "text": [
      "[1]\n",
      "[1, 1]\n",
      "[1, 2, 1]\n",
      "[1, 3, 3, 1]\n",
      "[1, 4, 6, 4, 1]\n",
      "[1, 5, 10, 10, 5, 1]\n",
      "[1, 6, 15, 20, 15, 6, 1]\n",
      "[1, 7, 21, 35, 35, 21, 7, 1]\n"
     ]
    }
   ],
   "source": [
    "for N in range(8):\n",
    "    print([sym.binomial(N, i) for i in range(N + 1)])"
   ]
  },
  {
   "cell_type": "markdown",
   "metadata": {},
   "source": [
    "What is the probability of getting 3 heads from 5 flips?"
   ]
  },
  {
   "cell_type": "code",
   "execution_count": 6,
   "metadata": {},
   "outputs": [
    {
     "data": {
      "text/latex": [
       "$\\displaystyle \\frac{5}{16}$"
      ],
      "text/plain": [
       "5/16"
      ]
     },
     "execution_count": 6,
     "metadata": {},
     "output_type": "execute_result"
    }
   ],
   "source": [
    "sym.binomial(5,3)/2**5"
   ]
  },
  {
   "cell_type": "markdown",
   "metadata": {},
   "source": [
    "Using a baised coin of P(heads) = 0.8, what is the probability of getting 1 head with 3 flips"
   ]
  },
  {
   "cell_type": "markdown",
   "metadata": {},
   "source": [
    "<b>Truth table</b>\n",
    "\n",
    "HHH  \n",
    "HTT  \n",
    "THT  \n",
    "TTH  \n",
    "HHT  \n",
    "HTH  \n",
    "THH  \n",
    "TTT"
   ]
  },
  {
   "cell_type": "code",
   "execution_count": 9,
   "metadata": {},
   "outputs": [
    {
     "name": "stdout",
     "output_type": "stream",
     "text": [
      "Number of outcomes: 8\n"
     ]
    }
   ],
   "source": [
    "print(f\"Number of outcomes: {2**3}\")"
   ]
  },
  {
   "cell_type": "code",
   "execution_count": 13,
   "metadata": {},
   "outputs": [
    {
     "name": "stdout",
     "output_type": "stream",
     "text": [
      "Combinations of 1 head: 3\n"
     ]
    }
   ],
   "source": [
    "print(f\"Combinations of 1 head: {sym.binomial(3,1)}\")"
   ]
  },
  {
   "cell_type": "code",
   "execution_count": 25,
   "metadata": {},
   "outputs": [
    {
     "name": "stdout",
     "output_type": "stream",
     "text": [
      "Probability of 1 head combination: 0.09599999999999996\n"
     ]
    }
   ],
   "source": [
    "print(f\"Probability of 1 head combination: {3*(0.8*(1-0.8)**2)}\")"
   ]
  },
  {
   "cell_type": "markdown",
   "metadata": {},
   "source": [
    "Using a baised coin of P(heads) = 0.8, what is the probability of getting 4 heads with 5 flips"
   ]
  },
  {
   "cell_type": "code",
   "execution_count": 29,
   "metadata": {},
   "outputs": [
    {
     "data": {
      "text/latex": [
       "$\\displaystyle 0.4096$"
      ],
      "text/plain": [
       "0.409600000000000"
      ]
     },
     "execution_count": 29,
     "metadata": {},
     "output_type": "execute_result"
    }
   ],
   "source": [
    "# number of combinations * probability of one combination\n",
    "sym.binomial(5,4) * 0.8**4 * (1-0.8)**1"
   ]
  },
  {
   "cell_type": "markdown",
   "metadata": {},
   "source": [
    "Using a baised coin of P(heads) = 0.8, what is the probability of getting 3 heads with 5 flips"
   ]
  },
  {
   "cell_type": "code",
   "execution_count": 30,
   "metadata": {},
   "outputs": [
    {
     "data": {
      "text/latex": [
       "$\\displaystyle 0.2048$"
      ],
      "text/plain": [
       "0.204800000000000"
      ]
     },
     "execution_count": 30,
     "metadata": {},
     "output_type": "execute_result"
    }
   ],
   "source": [
    "# number of combinations * probability of one combination\n",
    "sym.binomial(5,3) * 0.8**3 * (1-0.8)**2"
   ]
  },
  {
   "cell_type": "markdown",
   "metadata": {},
   "source": [
    "Using a baised coin of P(heads) = 0.8, what is the probability of getting 9 heads with 12 flips"
   ]
  },
  {
   "cell_type": "code",
   "execution_count": 33,
   "metadata": {},
   "outputs": [
    {
     "data": {
      "text/latex": [
       "$\\displaystyle 0.23622320128$"
      ],
      "text/plain": [
       "0.236223201280000"
      ]
     },
     "execution_count": 33,
     "metadata": {},
     "output_type": "execute_result"
    }
   ],
   "source": [
    "sym.binomial(12,9) * 0.8**9 * (1-0.8)**3"
   ]
  },
  {
   "cell_type": "markdown",
   "metadata": {},
   "source": [
    "<img src=\"https://i.imgur.com/VjnFoQK.png\" style=\"height:300px;\" >"
   ]
  },
  {
   "cell_type": "markdown",
   "metadata": {},
   "source": [
    "That is the formula for the probability of k events occuring given n opportunties. With probability p of the event occuring once.  \n",
    "For example what is the chance of a dice landing on 6, 6 times in 10 rolls."
   ]
  },
  {
   "cell_type": "code",
   "execution_count": 21,
   "metadata": {},
   "outputs": [
    {
     "name": "stdout",
     "output_type": "stream",
     "text": [
      "there are 210 ways to roll 6 sixs in 10 rolls and the chance of one of those combinations is 0.00001034\n",
      "thus the probability is 0.00217064\n"
     ]
    }
   ],
   "source": [
    "n = 10\n",
    "k = 6\n",
    "p = 1/6\n",
    "\n",
    "combinations = (sym.factorial(n)/(sym.factorial(n-k)*sym.factorial(k)))\n",
    "p_1 = p**k*(1-p)**(n-k)\n",
    "\n",
    "print(f\"there are {combinations} ways to roll 6 sixs in 10 rolls and the chance of one of \"\n",
    "      f\"those combinations is {p_1:.8f}\\nthus the probability is {combinations*p_1:.8f}\")"
   ]
  },
  {
   "cell_type": "markdown",
   "metadata": {},
   "source": [
    "Conditional Probability"
   ]
  }
 ],
 "metadata": {
  "kernelspec": {
   "display_name": "Python 3",
   "language": "python",
   "name": "python3"
  },
  "language_info": {
   "codemirror_mode": {
    "name": "ipython",
    "version": 3
   },
   "file_extension": ".py",
   "mimetype": "text/x-python",
   "name": "python",
   "nbconvert_exporter": "python",
   "pygments_lexer": "ipython3",
   "version": "3.7.6"
  }
 },
 "nbformat": 4,
 "nbformat_minor": 4
}
