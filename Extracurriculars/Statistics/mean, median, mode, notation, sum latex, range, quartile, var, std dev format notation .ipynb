{
 "cells": [
  {
   "cell_type": "code",
   "execution_count": 41,
   "metadata": {},
   "outputs": [],
   "source": [
    "import numpy as np\n",
    "from scipy import stats\n",
    "from IPython.display import display, Math\n",
    "import pandas as pd\n",
    "import matplotlib.pyplot as plt\n",
    "plt.rcParams['figure.figsize'] = (16,8)"
   ]
  },
  {
   "cell_type": "code",
   "execution_count": 3,
   "metadata": {},
   "outputs": [
    {
     "data": {
      "text/plain": [
       "8.0"
      ]
     },
     "execution_count": 3,
     "metadata": {},
     "output_type": "execute_result"
    }
   ],
   "source": [
    "A = [5, 8, 15, 7, 10, 22, 3, 1, 15]\n",
    "\n",
    "np.median(A)"
   ]
  },
  {
   "cell_type": "code",
   "execution_count": 4,
   "metadata": {},
   "outputs": [
    {
     "name": "stdout",
     "output_type": "stream",
     "text": [
      "when we have an even number of values we take mean of the two middle vales: 7.5\n"
     ]
    }
   ],
   "source": [
    "B = [5, 8, 15, 7, 10, 22, 3, 1, 15, 2]\n",
    "print('when we have an even number of values we take mean of the two middle vales:', np.median(B))"
   ]
  },
  {
   "cell_type": "code",
   "execution_count": 5,
   "metadata": {},
   "outputs": [
    {
     "data": {
      "text/plain": [
       "9.555555555555555"
      ]
     },
     "execution_count": 5,
     "metadata": {},
     "output_type": "execute_result"
    }
   ],
   "source": [
    "np.mean(A)"
   ]
  },
  {
   "cell_type": "code",
   "execution_count": 6,
   "metadata": {},
   "outputs": [
    {
     "name": "stdout",
     "output_type": "stream",
     "text": [
      "9.833333333333334 6.5 ModeResult(mode=array([4]), count=array([4]))\n"
     ]
    }
   ],
   "source": [
    "C = [8, 12, 32, 10, 3, 4, 4, 4, 4, 5, 12, 20]\n",
    "print(np.mean(C), np.median(C), stats.mode(C))"
   ]
  },
  {
   "cell_type": "code",
   "execution_count": 7,
   "metadata": {},
   "outputs": [
    {
     "data": {
      "text/plain": [
       "ModeResult(mode=array([10]), count=array([2]))"
      ]
     },
     "execution_count": 7,
     "metadata": {},
     "output_type": "execute_result"
    }
   ],
   "source": [
    "D = [5, 8, 15, 7, 10, 22, 3, 1, 15, 10]\n",
    "stats.mode(D)"
   ]
  },
  {
   "cell_type": "code",
   "execution_count": 15,
   "metadata": {},
   "outputs": [],
   "source": [
    "mean = np.mean(D)"
   ]
  },
  {
   "cell_type": "markdown",
   "metadata": {},
   "source": [
    "$ \\frac{1}{n} \\sum_{i=1}^{n} x_{i} $ \n",
    "\n",
    "is the mean in notation"
   ]
  },
  {
   "cell_type": "code",
   "execution_count": 9,
   "metadata": {},
   "outputs": [
    {
     "data": {
      "text/plain": [
       "[1, 1, 2, 3, 4, 5, 8, 8, 10, 12]"
      ]
     },
     "execution_count": 9,
     "metadata": {},
     "output_type": "execute_result"
    }
   ],
   "source": [
    "E = [1, 5, 10, 3, 8, 12, 4, 1, 2, 8]\n",
    "E_sorted = sorted(E)\n",
    "E_sorted"
   ]
  },
  {
   "cell_type": "code",
   "execution_count": 10,
   "metadata": {},
   "outputs": [
    {
     "data": {
      "text/plain": [
       "[1, 2, 3, 4, 5, 8, 8, 10, 12]"
      ]
     },
     "execution_count": 10,
     "metadata": {},
     "output_type": "execute_result"
    }
   ],
   "source": [
    "F = [5, 10, 3, 8, 12, 4, 1, 2, 8]\n",
    "F_sorted = sorted(F)\n",
    "F_sorted"
   ]
  },
  {
   "cell_type": "markdown",
   "metadata": {},
   "source": [
    "#### Manually taking the variance\n",
    "\n",
    "$ \\frac{1}{n}\\sum(x_i - \\bar{x})^2 $\n",
    "\n",
    "  \n",
    "#### Manually taking the standard deviation\n",
    "\n",
    "$ \\sqrt{\\frac{1}{n}\\sum(x_i - \\bar{x})^2} $"
   ]
  },
  {
   "cell_type": "code",
   "execution_count": 17,
   "metadata": {},
   "outputs": [
    {
     "data": {
      "text/latex": [
       "$\\displaystyle \\text{data = [10, 14, 10, 6]}$"
      ],
      "text/plain": [
       "<IPython.core.display.Math object>"
      ]
     },
     "metadata": {},
     "output_type": "display_data"
    },
    {
     "data": {
      "text/latex": [
       "$\\displaystyle \\bar{x} = 10.0$"
      ],
      "text/plain": [
       "<IPython.core.display.Math object>"
      ]
     },
     "metadata": {},
     "output_type": "display_data"
    },
    {
     "data": {
      "text/latex": [
       "$\\displaystyle \\sum(x_i - \\bar{x})^2 = 32.64$"
      ],
      "text/plain": [
       "<IPython.core.display.Math object>"
      ]
     },
     "metadata": {},
     "output_type": "display_data"
    },
    {
     "data": {
      "text/latex": [
       "$\\displaystyle \\frac{1}{n} \\sum(x_i - \\bar{x})^2 = 8.16$"
      ],
      "text/plain": [
       "<IPython.core.display.Math object>"
      ]
     },
     "metadata": {},
     "output_type": "display_data"
    },
    {
     "data": {
      "text/latex": [
       "$\\displaystyle \\sqrt {\\frac{1}{n} \\sum(x_i - \\bar{x})^2} = 2.9$"
      ],
      "text/plain": [
       "<IPython.core.display.Math object>"
      ]
     },
     "metadata": {},
     "output_type": "display_data"
    },
    {
     "name": "stdout",
     "output_type": "stream",
     "text": [
      "\n",
      "Confirming with numpy:\n",
      "\n",
      "From numpy the variance is 8.0\n",
      "From numpy the stadard deviation is 2.83\n"
     ]
    }
   ],
   "source": [
    "data = [10, 14, 10, 6]\n",
    "\n",
    "# need to use double {} to escape the latex characters\n",
    "\n",
    "sum_square_error = sum((data - mean)**2)\n",
    "var = sum_square_error/len(data)\n",
    "std_dev = var**0.5\n",
    "\n",
    "display(Math('\\\\text{{data = {}}}'.format(data)))\n",
    "display(Math('\\\\bar{{x}} = {}'.format(np.mean(data))))\n",
    "display(Math('\\\\sum(x_i - \\\\bar{{x}})^2 = {:g}'.format(sum_square_error)))\n",
    "display(Math('\\\\frac{{1}}{{n}} \\\\sum(x_i - \\\\bar{{x}})^2 = {:g}'.format(var)))\n",
    "display(Math('\\\\sqrt {{\\\\frac{{1}}{{n}} \\\\sum(x_i - \\\\bar{{x}})^2}} = {:0.2}'.format(std_dev)))\n",
    "\n",
    "print('\\nConfirming with numpy:\\n')\n",
    "print(f\"From numpy the variance is {np.var(data)}\")\n",
    "print(f\"From numpy the stadard deviation is {np.std(data):.2f}\")"
   ]
  },
  {
   "cell_type": "code",
   "execution_count": 26,
   "metadata": {},
   "outputs": [
    {
     "name": "stdout",
     "output_type": "stream",
     "text": [
      "data: [10, 14, 10, 6], sum: 43, mean: 6.14, var: 13.55, std dev: 3.68\n"
     ]
    }
   ],
   "source": [
    "data1 = [1, 5, 10, 3, 8, 12, 4]\n",
    "\n",
    "print(f\"data: {data}, sum: {sum(data1):d}, mean: {np.mean(data1):.2f}, var: {np.var(data1):.2f}, std dev: {np.std(data1):.2f}\")"
   ]
  },
  {
   "cell_type": "code",
   "execution_count": 40,
   "metadata": {},
   "outputs": [
    {
     "name": "stdout",
     "output_type": "stream",
     "text": [
      "count    13.000000\n",
      "mean      8.384615\n",
      "std       6.062707\n",
      "min       2.000000\n",
      "25%       3.000000\n",
      "50%       7.000000\n",
      "75%      12.000000\n",
      "max      22.000000\n",
      "dtype: float64 \n",
      "Std dev from numpy: 5.82\n",
      "They are different because of different degrees of freedom\n"
     ]
    }
   ],
   "source": [
    "A = [15, 4, 3, 8, 15, 22, 7, 9, 2, 3, 3, 12, 6]\n",
    "series_A = pd.Series(A)\n",
    "print(f\"{series_A.describe()} \\nStd dev from numpy: {np.std(A):.2f}\\nThey are different because of different degrees of freedom\")"
   ]
  },
  {
   "cell_type": "code",
   "execution_count": 54,
   "metadata": {},
   "outputs": [
    {
     "data": {
      "image/png": "[encoded data removed]",
      "text/plain": [
       "<Figure size 432x288 with 1 Axes>"
      ]
     },
     "metadata": {
      "needs_background": "light"
     },
     "output_type": "display_data"
    }
   ],
   "source": [
    "plt.boxplot(A, vert=False)\n",
    "series_A.plot.box(vert=False)\n",
    "plt.show()"
   ]
  },
  {
   "cell_type": "code",
   "execution_count": 50,
   "metadata": {},
   "outputs": [
    {
     "data": {
      "text/plain": [
       "<matplotlib.axes._subplots.AxesSubplot at 0x2b8cfcf0d88>"
      ]
     },
     "execution_count": 50,
     "metadata": {},
     "output_type": "execute_result"
    },
    {
     "data": {
      "image/png": "[encoded data removed]",
      "text/plain": [
       "<Figure size 432x288 with 1 Axes>"
      ]
     },
     "metadata": {
      "needs_background": "light"
     },
     "output_type": "display_data"
    }
   ],
   "source": [
    "series_A.plot.box(vert=False)"
   ]
  },
  {
   "cell_type": "code",
   "execution_count": null,
   "metadata": {},
   "outputs": [],
   "source": []
  }
 ],
 "metadata": {
  "kernelspec": {
   "display_name": "Python 3",
   "language": "python",
   "name": "python3"
  },
  "language_info": {
   "codemirror_mode": {
    "name": "ipython",
    "version": 3
   },
   "file_extension": ".py",
   "mimetype": "text/x-python",
   "name": "python",
   "nbconvert_exporter": "python",
   "pygments_lexer": "ipython3",
   "version": "3.7.4"
  }
 },
 "nbformat": 4,
 "nbformat_minor": 4
}
