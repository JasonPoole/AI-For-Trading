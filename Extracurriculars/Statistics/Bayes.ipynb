{
 "cells": [
  {
   "cell_type": "markdown",
   "metadata": {},
   "source": [
    "# Bayes Rule \n",
    "### Medical Example "
   ]
  },
  {
   "cell_type": "code",
   "execution_count": 113,
   "metadata": {},
   "outputs": [],
   "source": [
    "import pandas as pd\n",
    "from IPython.display import display, Math"
   ]
  },
  {
   "cell_type": "markdown",
   "metadata": {},
   "source": [
    "<img src='https://i.imgur.com/EPaOezY.png' align='left'>"
   ]
  },
  {
   "cell_type": "markdown",
   "metadata": {},
   "source": [
    "\n",
    "$P(\\text{cancer}) = 0.01 $  \n",
    "$P(\\text{Positive}\\mid \\text{cancer}) = 0.9 \\quad\\quad \\text{Sensitivity} $  \n",
    "$P(\\text{Negative}\\mid \\neg\\text{cancer}) = 0.9  \\quad \\text{Specitivity} $  \n"
   ]
  },
  {
   "cell_type": "code",
   "execution_count": 98,
   "metadata": {},
   "outputs": [],
   "source": [
    "p_cancer = 0.01\n",
    "p_no_cancer = 1 - p_cancer\n",
    "p_pos_g_cancer = 0.9\n",
    "p_neg_g_cancer = 1 - p_pos_g_cancer\n",
    "p_neg_g_no_cancer = 0.9\n",
    "p_pos_g_no_cancer = 1 - p_neg_g_no_cancer"
   ]
  },
  {
   "cell_type": "markdown",
   "metadata": {},
   "source": [
    "#### Given these values, if you get a positive result what is the probability of having cancer?"
   ]
  },
  {
   "cell_type": "code",
   "execution_count": 92,
   "metadata": {},
   "outputs": [
    {
     "data": {
      "text/html": [
       "<div>\n",
       "<style scoped>\n",
       "    .dataframe tbody tr th:only-of-type {\n",
       "        vertical-align: middle;\n",
       "    }\n",
       "\n",
       "    .dataframe tbody tr th {\n",
       "        vertical-align: top;\n",
       "    }\n",
       "\n",
       "    .dataframe thead th {\n",
       "        text-align: right;\n",
       "    }\n",
       "</style>\n",
       "<table border=\"1\" class=\"dataframe\">\n",
       "  <thead>\n",
       "    <tr style=\"text-align: right;\">\n",
       "      <th></th>\n",
       "      <th>Cancer</th>\n",
       "      <th>Test</th>\n",
       "      <th>P(  )</th>\n",
       "    </tr>\n",
       "  </thead>\n",
       "  <tbody>\n",
       "    <tr>\n",
       "      <th>0</th>\n",
       "      <td>Yes</td>\n",
       "      <td>Positive</td>\n",
       "      <td>0.01</td>\n",
       "    </tr>\n",
       "    <tr>\n",
       "      <th>1</th>\n",
       "      <td>Yes</td>\n",
       "      <td>Negative</td>\n",
       "      <td>0.00</td>\n",
       "    </tr>\n",
       "    <tr>\n",
       "      <th>2</th>\n",
       "      <td>No</td>\n",
       "      <td>Positive</td>\n",
       "      <td>0.10</td>\n",
       "    </tr>\n",
       "    <tr>\n",
       "      <th>3</th>\n",
       "      <td>No</td>\n",
       "      <td>Negative</td>\n",
       "      <td>0.89</td>\n",
       "    </tr>\n",
       "  </tbody>\n",
       "</table>\n",
       "</div>"
      ],
      "text/plain": [
       "  Cancer      Test  P(  )\n",
       "0    Yes  Positive   0.01\n",
       "1    Yes  Negative   0.00\n",
       "2     No  Positive   0.10\n",
       "3     No  Negative   0.89"
      ]
     },
     "metadata": {},
     "output_type": "display_data"
    },
    {
     "name": "stdout",
     "output_type": "stream",
     "text": [
      "Check probabilities add up to 1: True\n"
     ]
    }
   ],
   "source": [
    "data = [[\"Yes\", \"Positive\", p_cancer*p_pos_g_cancer], \n",
    "        [\"Yes\", \"Negative\", p_cancer*p_neg_g_cancer], \n",
    "        [\"No\", \"Positive\", p_no_cancer*p_pos_g_no_cancer], \n",
    "        [\"No\", \"Negative\", p_no_cancer*p_neg_g_no_cancer]]\n",
    "\n",
    "truth_table = pd.DataFrame(data, columns=[\"Cancer\", \"Test\", \"P(  )\"])\n",
    "display(truth_table.round(2))\n",
    "\n",
    "print(f\"Check probabilities add up to 1: {truth_table['P(  )'].sum() == 1}\")"
   ]
  },
  {
   "cell_type": "markdown",
   "metadata": {},
   "source": [
    "#### What is the probability of having cancer given a positive result?"
   ]
  },
  {
   "cell_type": "code",
   "execution_count": 93,
   "metadata": {},
   "outputs": [
    {
     "name": "stdout",
     "output_type": "stream",
     "text": [
      "Given that you got a positive result what are the probabilities that you have cancer?\n"
     ]
    },
    {
     "data": {
      "text/html": [
       "<div>\n",
       "<style scoped>\n",
       "    .dataframe tbody tr th:only-of-type {\n",
       "        vertical-align: middle;\n",
       "    }\n",
       "\n",
       "    .dataframe tbody tr th {\n",
       "        vertical-align: top;\n",
       "    }\n",
       "\n",
       "    .dataframe thead th {\n",
       "        text-align: right;\n",
       "    }\n",
       "</style>\n",
       "<table border=\"1\" class=\"dataframe\">\n",
       "  <thead>\n",
       "    <tr style=\"text-align: right;\">\n",
       "      <th></th>\n",
       "      <th>P(  )</th>\n",
       "    </tr>\n",
       "    <tr>\n",
       "      <th>Cancer</th>\n",
       "      <th></th>\n",
       "    </tr>\n",
       "  </thead>\n",
       "  <tbody>\n",
       "    <tr>\n",
       "      <th>No</th>\n",
       "      <td>0.10</td>\n",
       "    </tr>\n",
       "    <tr>\n",
       "      <th>Yes</th>\n",
       "      <td>0.01</td>\n",
       "    </tr>\n",
       "  </tbody>\n",
       "</table>\n",
       "</div>"
      ],
      "text/plain": [
       "        P(  )\n",
       "Cancer       \n",
       "No       0.10\n",
       "Yes      0.01"
      ]
     },
     "metadata": {},
     "output_type": "display_data"
    },
    {
     "name": "stdout",
     "output_type": "stream",
     "text": [
      "\n",
      "Normalized:\n"
     ]
    },
    {
     "data": {
      "text/html": [
       "<div>\n",
       "<style scoped>\n",
       "    .dataframe tbody tr th:only-of-type {\n",
       "        vertical-align: middle;\n",
       "    }\n",
       "\n",
       "    .dataframe tbody tr th {\n",
       "        vertical-align: top;\n",
       "    }\n",
       "\n",
       "    .dataframe thead th {\n",
       "        text-align: right;\n",
       "    }\n",
       "</style>\n",
       "<table border=\"1\" class=\"dataframe\">\n",
       "  <thead>\n",
       "    <tr style=\"text-align: right;\">\n",
       "      <th></th>\n",
       "      <th>P(  )</th>\n",
       "    </tr>\n",
       "    <tr>\n",
       "      <th>Cancer</th>\n",
       "      <th></th>\n",
       "    </tr>\n",
       "  </thead>\n",
       "  <tbody>\n",
       "    <tr>\n",
       "      <th>No</th>\n",
       "      <td>91.67</td>\n",
       "    </tr>\n",
       "    <tr>\n",
       "      <th>Yes</th>\n",
       "      <td>8.33</td>\n",
       "    </tr>\n",
       "  </tbody>\n",
       "</table>\n",
       "</div>"
      ],
      "text/plain": [
       "        P(  )\n",
       "Cancer       \n",
       "No      91.67\n",
       "Yes      8.33"
      ]
     },
     "metadata": {},
     "output_type": "display_data"
    }
   ],
   "source": [
    "pos_res = truth_table.query('Test == \"Positive\"').groupby('Cancer').sum()\n",
    "print('Given that you got a positive result what are the probabilities that you have cancer?')\n",
    "display(pos_res.round(2))\n",
    "\n",
    "print('\\nNormalized:')\n",
    "normalized = pos_res/pos_res.sum()*100\n",
    "display(normalized.round(2))"
   ]
  },
  {
   "cell_type": "markdown",
   "metadata": {},
   "source": [
    "Bayes starts with a prior probability (99 of 100 dice are fair) add the test evidence (a 5 was used rolled 10 of 10 times) and now you have the posterior probability\n",
    "\n",
    "<img src=\"https://i.imgur.com/e3tiAWL.png\" style=\"height:200px;\">"
   ]
  },
  {
   "cell_type": "markdown",
   "metadata": {},
   "source": [
    "### Prior:\n",
    "\n",
    "$P(C) = 0.01 \\quad \\quad \\quad \\quad \\quad \\quad \\quad \\quad \\quad  P(\\neg C) = 0.99$\n",
    "\n",
    "$P(\\text{Postive} \\mid \\text{Cancer}) = 0.9  \\quad \\quad \\quad \\quad   P(\\text{Negative} \\mid \\text{Cancer}) = 0.1$\n",
    "\n",
    "$P(\\text{Negative} \\mid \\neg \\text{Cancer}) = 0.9  \\quad \\quad \\quad P(\\text{Positive} \\mid \\neg \\text{Cancer}) = 0.1$\n",
    "\n",
    "### Positive Test Result, Joint: "
   ]
  },
  {
   "cell_type": "code",
   "execution_count": 94,
   "metadata": {
    "jupyter": {
     "source_hidden": true
    }
   },
   "outputs": [
    {
     "data": {
      "text/latex": [
       "$\\displaystyle (1) \\quad P(C \\mid \\text{Postive}) = \\\n",
       "             P(C) \\cdot P(\\text{Postive} \\mid \\text{Cancer}) = 0.009$"
      ],
      "text/plain": [
       "<IPython.core.display.Math object>"
      ]
     },
     "metadata": {},
     "output_type": "display_data"
    },
    {
     "data": {
      "text/latex": [
       "$\\displaystyle (2) \\quad P(\\neg C \\mid \\text{Postive}) = \\\n",
       "             P(\\neg C) \\cdot P(\\text{Postive} \\mid \\neg \\text{Cancer}) = 0.099$"
      ],
      "text/plain": [
       "<IPython.core.display.Math object>"
      ]
     },
     "metadata": {},
     "output_type": "display_data"
    }
   ],
   "source": [
    "eq1 = p_cancer * p_pos_g_cancer\n",
    "eq2 = p_no_cancer * p_pos_g_no_cancer\n",
    "\n",
    "display(Math(r\"(1) \\quad P(C \\mid \\text{Postive}) = \\\n",
    "             P(C) \\cdot P(\\text{Postive} \\mid \\text{Cancer}) = %g\" %eq1))\n",
    "\n",
    "display(Math(r\"(2) \\quad P(\\neg C \\mid \\text{Postive}) = \\\n",
    "             P(\\neg C) \\cdot P(\\text{Postive} \\mid \\neg \\text{Cancer}) = %g\" %eq2))"
   ]
  },
  {
   "cell_type": "markdown",
   "metadata": {},
   "source": [
    "### Posterior\n",
    "\n",
    "The sum of both probabilities given a postive result. aka the probability of a positive result"
   ]
  },
  {
   "cell_type": "code",
   "execution_count": 104,
   "metadata": {
    "jupyter": {
     "source_hidden": true
    }
   },
   "outputs": [
    {
     "name": "stdout",
     "output_type": "stream",
     "text": [
      "probability of a postitive test result: 0.11\n",
      "Probability of having cancer given a positive result: 0.08\n",
      "Probability of not having cancer given a positive result: 0.92\n"
     ]
    }
   ],
   "source": [
    "print(f\"probability of a postitive test result: {eq1 + eq2:.2f}\")\n",
    "print(f\"Probability of having cancer given a positive result: {eq1/(eq1 + eq2):.2f}\")\n",
    "print(f\"Probability of not having cancer given a positive result: {eq2/(eq1 + eq2):.2f}\")"
   ]
  },
  {
   "cell_type": "markdown",
   "metadata": {},
   "source": [
    "### Negative test result"
   ]
  },
  {
   "cell_type": "code",
   "execution_count": 112,
   "metadata": {},
   "outputs": [
    {
     "data": {
      "text/latex": [
       "$\\displaystyle (3) \\quad P(C \\mid \\text{Negative}) = \\\n",
       "             P(C) \\cdot P(\\text{Negative} \\mid \\text{Cancer}) = 0.001$"
      ],
      "text/plain": [
       "<IPython.core.display.Math object>"
      ]
     },
     "metadata": {},
     "output_type": "display_data"
    },
    {
     "data": {
      "text/latex": [
       "$\\displaystyle (4) \\quad P(\\neg C \\mid \\text{Negative}) = \\\n",
       "             P(\\neg C) \\cdot P(\\text{Negative} \\mid \\neg \\text{Cancer}) = 0.891$"
      ],
      "text/plain": [
       "<IPython.core.display.Math object>"
      ]
     },
     "metadata": {},
     "output_type": "display_data"
    },
    {
     "name": "stdout",
     "output_type": "stream",
     "text": [
      "probability of a negative test result: 0.89\n",
      "Probability of having cancer given a negative result: 0.0011\n",
      "Probability of not having cancer given a negative result: 0.9989\n"
     ]
    }
   ],
   "source": [
    "eq3 = p_cancer * p_neg_g_cancer\n",
    "eq4 = p_no_cancer * p_neg_g_no_cancer\n",
    "\n",
    "display(Math(r\"(3) \\quad P(C \\mid \\text{Negative}) = \\\n",
    "             P(C) \\cdot P(\\text{Negative} \\mid \\text{Cancer}) = %g\" %eq3))\n",
    "\n",
    "display(Math(r\"(4) \\quad P(\\neg C \\mid \\text{Negative}) = \\\n",
    "             P(\\neg C) \\cdot P(\\text{Negative} \\mid \\neg \\text{Cancer}) = %g\" %eq4))\n",
    "\n",
    "print(f\"probability of a negative test result: {eq3 + eq4:.2f}\")\n",
    "print(f\"Probability of having cancer given a negative result: {eq3/(eq3 + eq4):.4f}\")\n",
    "print(f\"Probability of not having cancer given a negative result: {eq4/(eq3 + eq4):.4f}\")"
   ]
  },
  {
   "cell_type": "markdown",
   "metadata": {},
   "source": [
    "<img src='https://i.imgur.com/HriRPc0.png' style=\"height:500px;\">"
   ]
  }
 ],
 "metadata": {
  "kernelspec": {
   "display_name": "Python 3",
   "language": "python",
   "name": "python3"
  },
  "language_info": {
   "codemirror_mode": {
    "name": "ipython",
    "version": 3
   },
   "file_extension": ".py",
   "mimetype": "text/x-python",
   "name": "python",
   "nbconvert_exporter": "python",
   "pygments_lexer": "ipython3",
   "version": "3.7.4"
  }
 },
 "nbformat": 4,
 "nbformat_minor": 4
}
