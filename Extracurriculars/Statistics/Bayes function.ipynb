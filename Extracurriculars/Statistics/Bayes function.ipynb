{
 "cells": [
  {
   "cell_type": "code",
   "execution_count": 24,
   "metadata": {},
   "outputs": [],
   "source": [
    "def bayes(prior_prob,sensitivity,specitivity):\n",
    "    # total probability of a a correct positive or a false positive\n",
    "    total_pos_result = prior_prob * sensitivity + (1-prior_prob) * (1-specitivity)   \n",
    "    # total probability of a false negative or a correct negative\n",
    "    total_neg_result = prior_prob *(1-sensitivity) + (1-prior_prob) * specitivity\n",
    "    \n",
    "    correct_postitive = (prior_prob * sensitivity)/total_pos_result\n",
    "    false_positive = (1-prior_prob) * (1-specitivity)/total_pos_result\n",
    "    \n",
    "    correct_negative = ((1-prior_prob) * specitivity)/total_neg_result\n",
    "    false_negative = (prior_prob * (1-sensitivity))/total_neg_result\n",
    "    \n",
    "    return [correct_postitive, false_positive, correct_negative, false_negative]"
   ]
  },
  {
   "cell_type": "code",
   "execution_count": 43,
   "metadata": {},
   "outputs": [
    {
     "name": "stdout",
     "output_type": "stream",
     "text": [
      "Probabilities of:\n",
      "\n",
      "Correct positive: 0.1538                            \n",
      "False positive: 0.8462                              \n",
      "Correct negative: 0.9989                             \n",
      "False negative: 0.0011\n"
     ]
    }
   ],
   "source": [
    "prior = 0.01\n",
    "sens = 0.9\n",
    "spec = 0.95\n",
    "c_p, f_p, c_n, f_n = bayes(prior, sens, spec)\n",
    "print(f\"Probabilities of:\\n\\nCorrect positive: {c_p:.4f} \\\n",
    "                           \\nFalse positive: {f_p:.4f}   \\\n",
    "                           \\nCorrect negative: {c_n:.4f}  \\\n",
    "                           \\nFalse negative: {f_n:.4f}\")"
   ]
  },
  {
   "cell_type": "code",
   "execution_count": null,
   "metadata": {},
   "outputs": [],
   "source": []
  }
 ],
 "metadata": {
  "kernelspec": {
   "display_name": "Python 3",
   "language": "python",
   "name": "python3"
  },
  "language_info": {
   "codemirror_mode": {
    "name": "ipython",
    "version": 3
   },
   "file_extension": ".py",
   "mimetype": "text/x-python",
   "name": "python",
   "nbconvert_exporter": "python",
   "pygments_lexer": "ipython3",
   "version": "3.7.4"
  }
 },
 "nbformat": 4,
 "nbformat_minor": 4
}
