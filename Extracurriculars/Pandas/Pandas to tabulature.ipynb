{
 "cells": [
  {
   "cell_type": "code",
   "execution_count": 6,
   "metadata": {
    "collapsed": true,
    "jupyter": {
     "outputs_hidden": true
    }
   },
   "outputs": [
    {
     "name": "stdout",
     "output_type": "stream",
     "text": [
      "Collecting tabulate\n",
      "  Using cached https://files.pythonhosted.org/packages/c4/f4/770ae9385990f5a19a91431163d262182d3203662ea2b5739d0fcfc080f1/tabulate-0.8.7-py3-none-any.whl\n",
      "Installing collected packages: tabulate\n",
      "Successfully installed tabulate-0.8.7\n"
     ]
    }
   ],
   "source": [
    "!pip install tabulate"
   ]
  },
  {
   "cell_type": "code",
   "execution_count": 20,
   "metadata": {},
   "outputs": [
    {
     "name": "stdout",
     "output_type": "stream",
     "text": [
      "|    | Date       |    Open |    High |     Low |   Close |   Adj Close |   Volume |\n",
      "|---:|:-----------|--------:|--------:|--------:|--------:|------------:|---------:|\n",
      "|  0 | 2004-08-19 | 49.6769 | 51.6938 | 47.67   | 49.8458 |     49.8458 | 44994500 |\n",
      "|  1 | 2004-08-20 | 50.1786 | 54.1876 | 49.9253 | 53.8051 |     53.8051 | 23005800 |\n",
      "|  2 | 2004-08-23 | 55.0172 | 56.3733 | 54.1727 | 54.3465 |     54.3465 | 18393200 |\n",
      "|  3 | 2004-08-24 | 55.2606 | 55.4394 | 51.4504 | 52.0962 |     52.0962 | 15361800 |\n",
      "|  4 | 2004-08-25 | 52.1409 | 53.6511 | 51.6044 | 52.6575 |     52.6575 |  9257400 |\n"
     ]
    }
   ],
   "source": [
    "print(Google_stock.head().to_markdown())"
   ]
  },
  {
   "cell_type": "code",
   "execution_count": 18,
   "metadata": {},
   "outputs": [
    {
     "name": "stdout",
     "output_type": "stream",
     "text": [
      "-  ----------  -------  -------  -------  -------  -------  --------\n",
      "0  2004-08-19  49.6769  51.6938  47.67    49.8458  49.8458  44994500\n",
      "1  2004-08-20  50.1786  54.1876  49.9253  53.8051  53.8051  23005800\n",
      "2  2004-08-23  55.0172  56.3733  54.1727  54.3465  54.3465  18393200\n",
      "3  2004-08-24  55.2606  55.4394  51.4504  52.0962  52.0962  15361800\n",
      "4  2004-08-25  52.1409  53.6511  51.6044  52.6575  52.6575   9257400\n",
      "-  ----------  -------  -------  -------  -------  -------  --------\n"
     ]
    }
   ],
   "source": [
    "print(tabulate(Google_stock.head()))"
   ]
  }
 ],
 "metadata": {
  "kernelspec": {
   "display_name": "Python 3",
   "language": "python",
   "name": "python3"
  },
  "language_info": {
   "codemirror_mode": {
    "name": "ipython",
    "version": 3
   },
   "file_extension": ".py",
   "mimetype": "text/x-python",
   "name": "python",
   "nbconvert_exporter": "python",
   "pygments_lexer": "ipython3",
   "version": "3.7.4"
  }
 },
 "nbformat": 4,
 "nbformat_minor": 4
}
