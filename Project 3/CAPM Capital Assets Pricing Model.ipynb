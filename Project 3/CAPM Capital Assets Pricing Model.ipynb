{
 "cells": [
  {
   "cell_type": "markdown",
   "metadata": {},
   "source": [
    "CAPM to calculate the return of a portfolio"
   ]
  },
  {
   "cell_type": "markdown",
   "metadata": {},
   "source": [
    "$ r_p = \\sum\\limits^n_i w_i(r_f + \\beta_i(r_m - r_f))  $\n",
    "\n",
    "$ r_f $ is the risk free return  \n",
    "$ r_m $ is the market return   \n",
    "$ w_i $ is the weight of each stock in the portfolio  "
   ]
  },
  {
   "cell_type": "markdown",
   "metadata": {},
   "source": [
    "the $\\beta$ of the portfolio equals"
   ]
  },
  {
   "cell_type": "markdown",
   "metadata": {},
   "source": [
    "$ \\beta_p = \\sum\\limits^n_i w_i \\beta_i $ "
   ]
  },
  {
   "cell_type": "markdown",
   "metadata": {},
   "source": [
    "<b>QUIZ QUESTION</b>  \n",
    "What is the return and the beta of a 3 stock portfolio with the following information:"
   ]
  },
  {
   "cell_type": "markdown",
   "metadata": {},
   "source": [
    "$ r_f = 2\\%, r_m = 10\\%$  \n",
    "$ \\beta_A = 1.2, \\beta_B = 1.8, \\beta_C = 0.5$   \n",
    "$ w_A = 0.4, w_B = 0.4, w_C = 0.2 $"
   ]
  },
  {
   "cell_type": "code",
   "execution_count": 11,
   "metadata": {},
   "outputs": [
    {
     "name": "stdout",
     "output_type": "stream",
     "text": [
      "Based on the CAPM model the beta of the portfolio is 1.30 and return of the portfolio 0.12\n"
     ]
    }
   ],
   "source": [
    "r_f = 0.02\n",
    "r_m = 0.1\n",
    "b_a = 1.2\n",
    "b_b = 1.8 \n",
    "b_c = 0.5\n",
    "w_a = 0.4\n",
    "w_b = 0.4\n",
    "w_c = 0.2\n",
    "r_p = r_m - r_f\n",
    "\n",
    "b_p = w_a*b_a + w_b*b_b + w_c*b_c\n",
    "r_port = w_a*(r_f + b_a*r_p) + w_b*(r_f + b_b*r_p) + w_c*(r_f + b_c*r_p)\n",
    "\n",
    "print(f\"Based on the CAPM model the beta of the portfolio is {b_p:.2f} and return of the portfolio {r_port:.2f}\")"
   ]
  },
  {
   "cell_type": "code",
   "execution_count": null,
   "metadata": {},
   "outputs": [],
   "source": []
  }
 ],
 "metadata": {
  "kernelspec": {
   "display_name": "Python 3",
   "language": "python",
   "name": "python3"
  },
  "language_info": {
   "codemirror_mode": {
    "name": "ipython",
    "version": 3
   },
   "file_extension": ".py",
   "mimetype": "text/x-python",
   "name": "python",
   "nbconvert_exporter": "python",
   "pygments_lexer": "ipython3",
   "version": "3.7.4"
  }
 },
 "nbformat": 4,
 "nbformat_minor": 4
}
