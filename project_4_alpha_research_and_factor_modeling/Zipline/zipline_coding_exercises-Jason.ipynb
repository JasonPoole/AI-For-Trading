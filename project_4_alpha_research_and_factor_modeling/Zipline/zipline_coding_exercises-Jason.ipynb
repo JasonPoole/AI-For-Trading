{
 "cells": [
  {
   "cell_type": "markdown",
   "metadata": {},
   "source": [
    "# Zipline Coding Exercises\n",
    "\n",
    "In this notebook you will create your own pipeline and create custom factors and filters for it. "
   ]
  },
  {
   "cell_type": "markdown",
   "metadata": {},
   "source": [
    "### Install Packages"
   ]
  },
  {
   "cell_type": "code",
   "execution_count": 9,
   "metadata": {
    "scrolled": true
   },
   "outputs": [],
   "source": [
    "# import sys\n",
    "# !{sys.executable} -m pip install -r requirements.txt"
   ]
  },
  {
   "cell_type": "markdown",
   "metadata": {},
   "source": [
    "# Load Data"
   ]
  },
  {
   "cell_type": "code",
   "execution_count": 11,
   "metadata": {},
   "outputs": [
    {
     "name": "stderr",
     "output_type": "stream",
     "text": [
      "/opt/conda/lib/python3.6/site-packages/ipykernel_launcher.py:14: UserWarning: Overwriting bundle with name 'm4-quiz-eod-quotemedia'\n",
      "  \n"
     ]
    }
   ],
   "source": [
    "import os\n",
    "\n",
    "from zipline.data import bundles\n",
    "from zipline.data.bundles.csvdir import csvdir_equities\n",
    "\n",
    "\n",
    "# Specify the bundle name\n",
    "bundle_name = 'm4-quiz-eod-quotemedia'\n",
    "\n",
    "# Create an ingest function \n",
    "ingest_func = csvdir_equities(['daily'], bundle_name)\n",
    "\n",
    "# Register the data bundle and its ingest function\n",
    "bundles.register(bundle_name, ingest_func);\n",
    "\n",
    "# Set environment variable 'ZIPLINE_ROOT' to the path where the most recent data is located\n",
    "os.environ['ZIPLINE_ROOT'] = os.path.join(os.getcwd(), '..', '..', 'data', 'module_4_quizzes_eod')\n",
    "\n",
    "# Load the data bundle\n",
    "bundle_data = bundles.load(bundle_name)"
   ]
  },
  {
   "cell_type": "markdown",
   "metadata": {},
   "source": [
    "# Build an Empty Pipeline with a Screen\n",
    "\n",
    "In the code below create an empty with a screen that filters the pipeline output for stocks with a 60-day average dollar volume greater than \\$50,000."
   ]
  },
  {
   "cell_type": "code",
   "execution_count": 3,
   "metadata": {},
   "outputs": [],
   "source": [
    "# import resources\n",
    "from zipline.pipeline import Pipeline\n",
    "from zipline.pipeline.factors import AverageDollarVolume\n",
    "\n",
    "\n",
    "# Create a screen for our Pipeline\n",
    "universe = (AverageDollarVolume(window_length=60) > 50000)\n",
    "\n",
    "# Create an empty Pipeline with the given screen\n",
    "pipeline = Pipeline(screen = universe)"
   ]
  },
  {
   "cell_type": "code",
   "execution_count": 4,
   "metadata": {},
   "outputs": [
    {
     "data": {
      "image/svg+xml": [
       "<svg height=\"287pt\" viewBox=\"0.00 0.00 477.00 287.00\" width=\"477pt\" xmlns=\"http://www.w3.org/2000/svg\" xmlns:xlink=\"http://www.w3.org/1999/xlink\">\n",
       "<g class=\"graph\" id=\"graph0\" transform=\"scale(1 1) rotate(0) translate(4 283)\">\n",
       "<title>G</title>\n",
       "<polygon fill=\"white\" points=\"-4,4 -4,-283 473,-283 473,4 -4,4\" stroke=\"none\"/>\n",
       "<g class=\"cluster\" id=\"clust1\"><title>cluster_Output</title>\n",
       "<polygon fill=\"#ffec8b\" points=\"149,-8 149,-85 319,-85 319,-8 149,-8\" stroke=\"#ffec8b\"/>\n",
       "<text font-family=\"Times,serif\" font-size=\"14.00\" text-anchor=\"middle\" x=\"234\" y=\"-15.8\">Output</text>\n",
       "</g>\n",
       "<g class=\"cluster\" id=\"clust2\"><title>cluster_Input</title>\n",
       "<polygon fill=\"#ffec8b\" points=\"8,-179 8,-271 461,-271 461,-179 8,-179\" stroke=\"#ffec8b\"/>\n",
       "<text font-family=\"Times,serif\" font-size=\"14.00\" text-anchor=\"middle\" x=\"234.5\" y=\"-255.8\">Input</text>\n",
       "</g>\n",
       "<!-- 139888831343696 -->\n",
       "<g class=\"node\" id=\"node1\"><title>139888831343696</title>\n",
       "<polygon fill=\"#ccebc5\" points=\"311,-77 157,-77 157,-39 311,-39 311,-77\" stroke=\"black\"/>\n",
       "<text font-family=\"Times,serif\" font-size=\"14.00\" text-anchor=\"start\" x=\"165\" y=\"-61.8\">Expression:</text>\n",
       "<text font-family=\"Times,serif\" font-size=\"14.00\" text-anchor=\"start\" x=\"165\" y=\"-46.8\">  x_0 &gt; (5.00E+04)</text>\n",
       "</g>\n",
       "<!-- 139888508804512 -->\n",
       "<g class=\"node\" id=\"node2\"><title>139888508804512</title>\n",
       "<polygon fill=\"#fbb4ae\" points=\"452.5,-240 243.5,-240 243.5,-187 452.5,-187 452.5,-240\" stroke=\"black\"/>\n",
       "<text font-family=\"Times,serif\" font-size=\"14.00\" text-anchor=\"start\" x=\"251.5\" y=\"-224.8\">BoundColumn:</text>\n",
       "<text font-family=\"Times,serif\" font-size=\"14.00\" text-anchor=\"start\" x=\"251.5\" y=\"-209.8\">  Dataset: USEquityPricing</text>\n",
       "<text font-family=\"Times,serif\" font-size=\"14.00\" text-anchor=\"start\" x=\"251.5\" y=\"-194.8\">  Column: volume</text>\n",
       "</g>\n",
       "<!-- 139888504353680 -->\n",
       "<g class=\"node\" id=\"node4\"><title>139888504353680</title>\n",
       "<polygon fill=\"#b3cde3\" points=\"322,-151 146,-151 146,-113 322,-113 322,-151\" stroke=\"black\"/>\n",
       "<text font-family=\"Times,serif\" font-size=\"14.00\" text-anchor=\"start\" x=\"154\" y=\"-135.8\">AverageDollarVolume:</text>\n",
       "<text font-family=\"Times,serif\" font-size=\"14.00\" text-anchor=\"start\" x=\"154\" y=\"-120.8\">  window_length: 60</text>\n",
       "</g>\n",
       "<!-- 139888508804512&#45;&gt;139888504353680 -->\n",
       "<g class=\"edge\" id=\"edge3\"><title>139888508804512-&gt;139888504353680</title>\n",
       "<path d=\"M282.75,-186.814C282.75,-186.814 282.75,-161.253 282.75,-161.253\" fill=\"none\" stroke=\"black\"/>\n",
       "<polygon fill=\"black\" points=\"286.25,-161.253 282.75,-151.253 279.25,-161.253 286.25,-161.253\" stroke=\"black\"/>\n",
       "</g>\n",
       "<!-- 139888509294016 -->\n",
       "<g class=\"node\" id=\"node3\"><title>139888509294016</title>\n",
       "<polygon fill=\"#fbb4ae\" points=\"225.5,-240 16.5,-240 16.5,-187 225.5,-187 225.5,-240\" stroke=\"black\"/>\n",
       "<text font-family=\"Times,serif\" font-size=\"14.00\" text-anchor=\"start\" x=\"24.5\" y=\"-224.8\">BoundColumn:</text>\n",
       "<text font-family=\"Times,serif\" font-size=\"14.00\" text-anchor=\"start\" x=\"24.5\" y=\"-209.8\">  Dataset: USEquityPricing</text>\n",
       "<text font-family=\"Times,serif\" font-size=\"14.00\" text-anchor=\"start\" x=\"24.5\" y=\"-194.8\">  Column: close</text>\n",
       "</g>\n",
       "<!-- 139888509294016&#45;&gt;139888504353680 -->\n",
       "<g class=\"edge\" id=\"edge2\"><title>139888509294016-&gt;139888504353680</title>\n",
       "<path d=\"M185.75,-186.814C185.75,-186.814 185.75,-161.253 185.75,-161.253\" fill=\"none\" stroke=\"black\"/>\n",
       "<polygon fill=\"black\" points=\"189.25,-161.253 185.75,-151.253 182.25,-161.253 189.25,-161.253\" stroke=\"black\"/>\n",
       "</g>\n",
       "<!-- 139888504353680&#45;&gt;139888831343696 -->\n",
       "<g class=\"edge\" id=\"edge1\"><title>139888504353680-&gt;139888831343696</title>\n",
       "<path d=\"M234,-112.943C234,-112.943 234,-87.2495 234,-87.2495\" fill=\"none\" stroke=\"black\"/>\n",
       "<polygon fill=\"black\" points=\"237.5,-87.2494 234,-77.2495 230.5,-87.2495 237.5,-87.2494\" stroke=\"black\"/>\n",
       "</g>\n",
       "</g>\n",
       "</svg>"
      ],
      "text/plain": [
       "<IPython.core.display.SVG object>"
      ]
     },
     "execution_count": 4,
     "metadata": {},
     "output_type": "execute_result"
    }
   ],
   "source": [
    "import graphviz\n",
    "\n",
    "# show our pipeline as a graph\n",
    "pipeline.show_graph()"
   ]
  },
  {
   "cell_type": "markdown",
   "metadata": {},
   "source": [
    "# Create a Pipeline Engine\n",
    "\n",
    "In the code below, create a data loader that loads our data bundle using Zipline's `USEquityPricingLoader`. Then create a function to be passed to the `get_loader` parameter in the pipeline engine. Using the NYSE trading calendar create a pipeline engine using Zipline's `SimplePipelineEngine`"
   ]
  },
  {
   "cell_type": "code",
   "execution_count": 5,
   "metadata": {},
   "outputs": [],
   "source": [
    "# import resources\n",
    "from zipline.pipeline.loaders import USEquityPricingLoader\n",
    "from zipline.utils.calendars import get_calendar\n",
    "from zipline.pipeline.engine import SimplePipelineEngine\n",
    "\n",
    "# Set the dataloader\n",
    "pricing_loader = USEquityPricingLoader(bundle_data.equity_daily_bar_reader, bundle_data.adjustment_reader)\n",
    "\n",
    "\n",
    "# Define the function for the get_loader parameter\n",
    "def choose_loader(column):\n",
    "    if column not in USEquityPricing.columns:\n",
    "        raise Exception('Column not in USEquityPricing')\n",
    "    return pricing_loader\n",
    "\n",
    "# Set the trading calendar\n",
    "trading_calendar = get_calendar('NYSE')\n",
    "\n",
    "# Create a Pipeline engine\n",
    "engine = SimplePipelineEngine(get_loader = choose_loader,\n",
    "                             calendar = trading_calendar.all_sessions, \n",
    "                             asset_finder = bundle_data.asset_finder)"
   ]
  },
  {
   "cell_type": "markdown",
   "metadata": {},
   "source": [
    "#  Create Factors and Filters For The Pipeline\n",
    "\n",
    "### Factors\n",
    "\n",
    "In the code below, create two factors:\n",
    "\n",
    "1. **Custom Factor**: Create a custom factor, `percent_difference`,  by combining a 30-day average closing price factor and a 60-average closing price factor. The `percent_difference` factor will calculate the difference between the 30-day and 60-average closing price factors, and will then normalize this difference by the 60-average closing price factor.\n",
    "\n",
    "\n",
    "2. **Daily Returns Factor**: Create a factor that returns the daily percent change in closing price. To do this, use Zipline's built-in [DailyReturns](https://www.zipline.io/appendix.html#zipline.pipeline.factors.DailyReturns) factor.\n",
    "\n",
    "Both factors should use the closing prices in the `USEquityPricing`  dataset as inputs. \n",
    "\n",
    "\n",
    "\n",
    "\n",
    "### Filters\n",
    "\n",
    "In the code below, you will create a **Custom Filter**, `tradable_asset`, that returns `True` for the top 20 securities of average dollar volume in a 30 day-window that have a latest closing price above \\$30. To do this, you will create two filters first and them combine them. For the first filter, you can use Zipline's built-in factor `AverageDollarVolume()` and its method `.top()` to select the top 20 assets of average dollar volume in a 30 day-window. To get the latest close price of the `USEquityPricing` dataset you can use `USEquityPricing.close.latest`. Finally you can combine these two filters by using the logical operator `&`. "
   ]
  },
  {
   "cell_type": "code",
   "execution_count": 6,
   "metadata": {},
   "outputs": [],
   "source": [
    "# import resources\n",
    "from zipline.pipeline.factors import SimpleMovingAverage\n",
    "from zipline.pipeline.data import USEquityPricing\n",
    "from zipline.pipeline.factors import DailyReturns\n",
    "\n",
    "\n",
    "# Create the 30-day average closing price factor\n",
    "mean_close_30 = SimpleMovingAverage(inputs=[USEquityPricing.close], window_length=30)\n",
    "\n",
    "# Create the 60-day average closing price factor\n",
    "mean_close_60 = SimpleMovingAverage(inputs=[USEquityPricing.close], window_length=60)\n",
    "\n",
    "# Create the custom factor\n",
    "percent_difference = (mean_close_30 - mean_close_60)/mean_close_60 \n",
    "\n",
    "# Create the daily returns factor\n",
    "daily_returns = DailyReturns()\n",
    "\n",
    "# Create a filter for the top 20 securities of average dollar volume in a 30 day-window\n",
    "top_20_m_c_30 = AverageDollarVolume(window_length=30).top(20)\n",
    "\n",
    "# Create a filter for the latest closing price above $30\n",
    "close_more_30 = USEquityPricing.close.latest > 30\n",
    "\n",
    "# Create a custom filter\n",
    "custom_filter = top_20_m_c_30 & close_more_30"
   ]
  },
  {
   "cell_type": "markdown",
   "metadata": {},
   "source": [
    "# Add Factors and Filters To The Pipeline\n",
    "\n",
    "In the code below, add the factors and filters you created above to the pipeline"
   ]
  },
  {
   "cell_type": "code",
   "execution_count": 7,
   "metadata": {},
   "outputs": [],
   "source": [
    "# Add the custom factor to the pipeline\n",
    "pipeline.add(percent_difference, 'Percent diff 30-60 MA')\n",
    "\n",
    "\n",
    "# Add the daily returns factor to the pipeline\n",
    "pipeline.add(daily_returns, 'Daily Returns')\n",
    "\n",
    "# Add the custom filter to the pipeline\n",
    "pipeline.add(custom_filter, 'Top 20 Vol & close above 29')"
   ]
  },
  {
   "cell_type": "markdown",
   "metadata": {},
   "source": [
    "# Run The Pipeline\n",
    "\n",
    "In the code below, run the pipeline for the dates given"
   ]
  },
  {
   "cell_type": "code",
   "execution_count": 8,
   "metadata": {},
   "outputs": [
    {
     "data": {
      "text/html": [
       "<div>\n",
       "<style scoped>\n",
       "    .dataframe tbody tr th:only-of-type {\n",
       "        vertical-align: middle;\n",
       "    }\n",
       "\n",
       "    .dataframe tbody tr th {\n",
       "        vertical-align: top;\n",
       "    }\n",
       "\n",
       "    .dataframe thead th {\n",
       "        text-align: right;\n",
       "    }\n",
       "</style>\n",
       "<table border=\"1\" class=\"dataframe\">\n",
       "  <thead>\n",
       "    <tr style=\"text-align: right;\">\n",
       "      <th></th>\n",
       "      <th></th>\n",
       "      <th>Daily Returns</th>\n",
       "      <th>Percent diff 30-60 MA</th>\n",
       "      <th>Top 20 Vol &amp; close above 29</th>\n",
       "    </tr>\n",
       "  </thead>\n",
       "  <tbody>\n",
       "    <tr>\n",
       "      <th rowspan=\"5\" valign=\"top\">2014-01-06 00:00:00+00:00</th>\n",
       "      <th>Equity(0 [A])</th>\n",
       "      <td>0.006951</td>\n",
       "      <td>0.025939</td>\n",
       "      <td>False</td>\n",
       "    </tr>\n",
       "    <tr>\n",
       "      <th>Equity(1 [AAL])</th>\n",
       "      <td>0.046523</td>\n",
       "      <td>0.055887</td>\n",
       "      <td>False</td>\n",
       "    </tr>\n",
       "    <tr>\n",
       "      <th>Equity(2 [AAP])</th>\n",
       "      <td>0.028611</td>\n",
       "      <td>0.051009</td>\n",
       "      <td>False</td>\n",
       "    </tr>\n",
       "    <tr>\n",
       "      <th>Equity(3 [AAPL])</th>\n",
       "      <td>-0.021972</td>\n",
       "      <td>0.035906</td>\n",
       "      <td>True</td>\n",
       "    </tr>\n",
       "    <tr>\n",
       "      <th>Equity(4 [ABBV])</th>\n",
       "      <td>0.006147</td>\n",
       "      <td>0.033018</td>\n",
       "      <td>False</td>\n",
       "    </tr>\n",
       "  </tbody>\n",
       "</table>\n",
       "</div>"
      ],
      "text/plain": [
       "                                            Daily Returns  \\\n",
       "2014-01-06 00:00:00+00:00 Equity(0 [A])          0.006951   \n",
       "                          Equity(1 [AAL])        0.046523   \n",
       "                          Equity(2 [AAP])        0.028611   \n",
       "                          Equity(3 [AAPL])      -0.021972   \n",
       "                          Equity(4 [ABBV])       0.006147   \n",
       "\n",
       "                                            Percent diff 30-60 MA  \\\n",
       "2014-01-06 00:00:00+00:00 Equity(0 [A])                  0.025939   \n",
       "                          Equity(1 [AAL])                0.055887   \n",
       "                          Equity(2 [AAP])                0.051009   \n",
       "                          Equity(3 [AAPL])               0.035906   \n",
       "                          Equity(4 [ABBV])               0.033018   \n",
       "\n",
       "                                            Top 20 Vol & close above 29  \n",
       "2014-01-06 00:00:00+00:00 Equity(0 [A])                           False  \n",
       "                          Equity(1 [AAL])                         False  \n",
       "                          Equity(2 [AAP])                         False  \n",
       "                          Equity(3 [AAPL])                         True  \n",
       "                          Equity(4 [ABBV])                        False  "
      ]
     },
     "metadata": {},
     "output_type": "display_data"
    },
    {
     "data": {
      "text/html": [
       "<div>\n",
       "<style scoped>\n",
       "    .dataframe tbody tr th:only-of-type {\n",
       "        vertical-align: middle;\n",
       "    }\n",
       "\n",
       "    .dataframe tbody tr th {\n",
       "        vertical-align: top;\n",
       "    }\n",
       "\n",
       "    .dataframe thead th {\n",
       "        text-align: right;\n",
       "    }\n",
       "</style>\n",
       "<table border=\"1\" class=\"dataframe\">\n",
       "  <thead>\n",
       "    <tr style=\"text-align: right;\">\n",
       "      <th></th>\n",
       "      <th></th>\n",
       "      <th>Daily Returns</th>\n",
       "      <th>Percent diff 30-60 MA</th>\n",
       "      <th>Top 20 Vol &amp; close above 29</th>\n",
       "    </tr>\n",
       "  </thead>\n",
       "  <tbody>\n",
       "    <tr>\n",
       "      <th rowspan=\"5\" valign=\"top\">2016-01-05 00:00:00+00:00</th>\n",
       "      <th>Equity(486 [XYL])</th>\n",
       "      <td>-0.011520</td>\n",
       "      <td>0.015590</td>\n",
       "      <td>False</td>\n",
       "    </tr>\n",
       "    <tr>\n",
       "      <th>Equity(487 [YUM])</th>\n",
       "      <td>-0.011489</td>\n",
       "      <td>0.017369</td>\n",
       "      <td>False</td>\n",
       "    </tr>\n",
       "    <tr>\n",
       "      <th>Equity(488 [ZBH])</th>\n",
       "      <td>-0.007604</td>\n",
       "      <td>0.000997</td>\n",
       "      <td>False</td>\n",
       "    </tr>\n",
       "    <tr>\n",
       "      <th>Equity(489 [ZION])</th>\n",
       "      <td>-0.021614</td>\n",
       "      <td>-0.009076</td>\n",
       "      <td>False</td>\n",
       "    </tr>\n",
       "    <tr>\n",
       "      <th>Equity(490 [ZTS])</th>\n",
       "      <td>-0.013564</td>\n",
       "      <td>0.032504</td>\n",
       "      <td>False</td>\n",
       "    </tr>\n",
       "  </tbody>\n",
       "</table>\n",
       "</div>"
      ],
      "text/plain": [
       "                                              Daily Returns  \\\n",
       "2016-01-05 00:00:00+00:00 Equity(486 [XYL])       -0.011520   \n",
       "                          Equity(487 [YUM])       -0.011489   \n",
       "                          Equity(488 [ZBH])       -0.007604   \n",
       "                          Equity(489 [ZION])      -0.021614   \n",
       "                          Equity(490 [ZTS])       -0.013564   \n",
       "\n",
       "                                              Percent diff 30-60 MA  \\\n",
       "2016-01-05 00:00:00+00:00 Equity(486 [XYL])                0.015590   \n",
       "                          Equity(487 [YUM])                0.017369   \n",
       "                          Equity(488 [ZBH])                0.000997   \n",
       "                          Equity(489 [ZION])              -0.009076   \n",
       "                          Equity(490 [ZTS])                0.032504   \n",
       "\n",
       "                                              Top 20 Vol & close above 29  \n",
       "2016-01-05 00:00:00+00:00 Equity(486 [XYL])                         False  \n",
       "                          Equity(487 [YUM])                         False  \n",
       "                          Equity(488 [ZBH])                         False  \n",
       "                          Equity(489 [ZION])                        False  \n",
       "                          Equity(490 [ZTS])                         False  "
      ]
     },
     "metadata": {},
     "output_type": "display_data"
    }
   ],
   "source": [
    "# Set starting and end dates\n",
    "start_date = pd.Timestamp('2014-01-06', tz='utc')\n",
    "end_date = pd.Timestamp('2016-01-05', tz='utc')\n",
    "\n",
    "# Run our pipeline for the given start and end dates\n",
    "output = engine.run_pipeline(pipeline, start_date, end_date)\n",
    "\n",
    "\n",
    "# Display the pipeline output\n",
    "display(output.head())\n",
    "display(output.tail())"
   ]
  }
 ],
 "metadata": {
  "kernelspec": {
   "display_name": "Python 3",
   "language": "python",
   "name": "python3"
  },
  "language_info": {
   "codemirror_mode": {
    "name": "ipython",
    "version": 3
   },
   "file_extension": ".py",
   "mimetype": "text/x-python",
   "name": "python",
   "nbconvert_exporter": "python",
   "pygments_lexer": "ipython3",
   "version": "3.6.3"
  }
 },
 "nbformat": 4,
 "nbformat_minor": 2
}
