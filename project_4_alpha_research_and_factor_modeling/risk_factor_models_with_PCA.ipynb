{
 "cells": [
  {
   "cell_type": "code",
   "execution_count": 1,
   "metadata": {},
   "outputs": [],
   "source": [
    "import numpy as np"
   ]
  },
  {
   "cell_type": "markdown",
   "metadata": {},
   "source": [
    "# Linear Algebra"
   ]
  },
  {
   "cell_type": "markdown",
   "metadata": {},
   "source": [
    "### Bases as languages"
   ]
  },
  {
   "cell_type": "markdown",
   "metadata": {},
   "source": [
    "A vector $\\begin{bmatrix}1 \\\\ 2 \\\\ \\end{bmatrix}\n",
    "$ can be written as $1 \\times \\begin{bmatrix}1 \\\\ 0 \\end{bmatrix} +$\n",
    "$ 2 \\times \\begin{bmatrix} 0 \\\\ 1 \\end{bmatrix}$\n",
    "  \n",
    "  \n",
    "In our words, our vector can be written as a linear combination of $\\hat{i}$ and $\\hat{j}$"
   ]
  },
  {
   "cell_type": "markdown",
   "metadata": {},
   "source": [
    "This can be expressed in matrix multiplication as\n",
    "$ \\begin{bmatrix} 1 & 0 \\\\ 0 & 1 \\end{bmatrix} $\n",
    "$ \\begin{bmatrix} 1 \\\\ 2 \\end{bmatrix} = $\n",
    "$ \\begin{bmatrix} 1 \\\\ 2 \\end{bmatrix} $"
   ]
  },
  {
   "cell_type": "markdown",
   "metadata": {},
   "source": [
    "Now we can see,  \n",
    "1 represents how much in the $\\hat{i}$ direction  \n",
    "2 represents how much in the $\\hat{j}$ direction "
   ]
  },
  {
   "cell_type": "markdown",
   "metadata": {},
   "source": [
    "To translate bewtween bases we write the old basis language in the new basic language. \n",
    "\n",
    "<img src='Exercises/images/bases.png' width='600'>"
   ]
  },
  {
   "cell_type": "markdown",
   "metadata": {},
   "source": [
    "### PCA: Writing it down"
   ]
  },
  {
   "cell_type": "markdown",
   "metadata": {},
   "source": [
    "First we make sure the data is centered around 0, so first we substract the mean for each dimension for each data point. This is called **mean normalizing**"
   ]
  },
  {
   "cell_type": "code",
   "execution_count": null,
   "metadata": {},
   "outputs": [],
   "source": []
  }
 ],
 "metadata": {
  "kernelspec": {
   "display_name": "udacity",
   "language": "python",
   "name": "udacity"
  },
  "language_info": {
   "codemirror_mode": {
    "name": "ipython",
    "version": 3
   },
   "file_extension": ".py",
   "mimetype": "text/x-python",
   "name": "python",
   "nbconvert_exporter": "python",
   "pygments_lexer": "ipython3",
   "version": "3.8.3"
  }
 },
 "nbformat": 4,
 "nbformat_minor": 4
}
