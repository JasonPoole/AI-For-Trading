{
 "cells": [
  {
   "cell_type": "code",
   "execution_count": 3,
   "metadata": {},
   "outputs": [],
   "source": [
    "import numpy as np"
   ]
  },
  {
   "cell_type": "markdown",
   "metadata": {},
   "source": [
    "# Factors"
   ]
  },
  {
   "cell_type": "markdown",
   "metadata": {},
   "source": [
    "What is a factor? Numerical values that are potentially predictive of the performance of stocks in the future.\n",
    "\n",
    "Alpha factors are drivers of mean returns and risk factors are drivers of volatility. \n",
    "\n",
    "Factors can be based on anything but we have seen some so far, momentum, fundamental information, signals from social media. "
   ]
  },
  {
   "cell_type": "markdown",
   "metadata": {},
   "source": [
    "### Standardized a Factor\n",
    "\n",
    "<img src=\"standardized_factor_math.png\" alt=\"standardized_factor_math\" width=\"500\"/>\n",
    "\n",
    "Both of these criteria must be satisfied"
   ]
  },
  {
   "cell_type": "code",
   "execution_count": 43,
   "metadata": {},
   "outputs": [
    {
     "name": "stdout",
     "output_type": "stream",
     "text": [
      "[ 0.15625 -0.5      0.34375]\n"
     ]
    }
   ],
   "source": [
    "# example of standardizing a factor\n",
    "\n",
    "# we have 3 stocks with raw factor values:\n",
    "raw_factor = [0.4,-0.3,0.6]\n",
    "mu = np.mean(raw_factor)\n",
    "\n",
    "# de-mean the values\n",
    "demeaned_raw_factor = raw_factor - mu\n",
    "\n",
    "# rescale the values\n",
    "scaler = sum(np.abs(demeaned_raw_factor))\n",
    "rescaled = (raw_factor - mu)/scaler\n",
    "\n",
    "# verfiy conditions\n",
    "\n",
    "# sum of new values must equal 0\n",
    "assert sum(rescaled).round(8) == 0\n",
    "\n",
    "# sum of absolute new values must equal 1\n",
    "assert sum(np.abs(rescaled)).round(0) == 1\n",
    "\n",
    "print(rescaled)"
   ]
  },
  {
   "cell_type": "markdown",
   "metadata": {},
   "source": [
    "We de-mean the values to make the portfolio dollar neutral, i.e. \\\\$ shorts = \\\\$ longs. \n",
    "\n",
    "This allows us to test our factor without being influenced by the market movement."
   ]
  },
  {
   "cell_type": "markdown",
   "metadata": {},
   "source": [
    "### Leverage  \n",
    "\n",
    "Leverage is the act of borrowing in order to invest. Borrowing cash in order to go long on more positions may magnify gains but also losses."
   ]
  },
  {
   "cell_type": "markdown",
   "metadata": {},
   "source": [
    "Leverage Ratio\n",
    "\n",
    "Long \\\\$2m but with a notional of $1m, ratio = 2 etc"
   ]
  },
  {
   "cell_type": "markdown",
   "metadata": {},
   "source": [
    "### Zipline Pipeline\n",
    "\n",
    "Zipline is an open source library used to build a pipeline of stocks from other 8000 securities which we can do calculations on such as factors (numerical outputs) or filters (boolean outputs)"
   ]
  },
  {
   "cell_type": "markdown",
   "metadata": {},
   "source": [
    "# Factor Models and Types of Factors"
   ]
  },
  {
   "cell_type": "code",
   "execution_count": null,
   "metadata": {},
   "outputs": [],
   "source": []
  }
 ],
 "metadata": {
  "kernelspec": {
   "display_name": "Python 3",
   "language": "python",
   "name": "python3"
  },
  "language_info": {
   "codemirror_mode": {
    "name": "ipython",
    "version": 3
   },
   "file_extension": ".py",
   "mimetype": "text/x-python",
   "name": "python",
   "nbconvert_exporter": "python",
   "pygments_lexer": "ipython3",
   "version": "3.6.10"
  }
 },
 "nbformat": 4,
 "nbformat_minor": 4
}
