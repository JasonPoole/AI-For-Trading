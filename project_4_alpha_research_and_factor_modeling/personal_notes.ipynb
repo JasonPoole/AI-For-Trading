{
 "cells": [
  {
   "cell_type": "code",
   "execution_count": 2,
   "metadata": {},
   "outputs": [],
   "source": [
    "import numpy as np"
   ]
  },
  {
   "cell_type": "markdown",
   "metadata": {},
   "source": [
    "# Factors"
   ]
  },
  {
   "cell_type": "markdown",
   "metadata": {},
   "source": [
    "What is a factor? Numerical values that are potentially predictive of the performance of stocks in the future.\n",
    "\n",
    "Alpha factors are drivers of mean returns and risk factors are drivers of volatility. \n",
    "\n",
    "Factors can be based on anything but we have seen some so far, momentum, fundamental information, signals from social media. "
   ]
  },
  {
   "cell_type": "markdown",
   "metadata": {},
   "source": [
    "### Standardized a Factor\n",
    "\n",
    "<img src=\"Exercises/images/standardized_factor_math.png\" alt=\"standardized_factor_math\" width=\"500\"/>\n",
    "\n",
    "Both of these criteria must be satisfied"
   ]
  },
  {
   "cell_type": "code",
   "execution_count": 7,
   "metadata": {},
   "outputs": [
    {
     "name": "stdout",
     "output_type": "stream",
     "text": [
      "[-0.5  0.5]\n"
     ]
    }
   ],
   "source": [
    "# example of standardizing a factor\n",
    "\n",
    "# we have 3 stocks with raw factor values:\n",
    "raw_factor = [1,1.001]\n",
    "mu = np.mean(raw_factor)\n",
    "\n",
    "# de-mean the values\n",
    "demeaned_raw_factor = raw_factor - mu\n",
    "\n",
    "# rescale the values\n",
    "scaler = sum(np.abs(demeaned_raw_factor))\n",
    "rescaled = (raw_factor - mu)/scaler\n",
    "\n",
    "# verfiy conditions\n",
    "\n",
    "# sum of new values must equal 0\n",
    "assert sum(rescaled).round(8) == 0\n",
    "\n",
    "# sum of absolute new values must equal 1\n",
    "assert sum(np.abs(rescaled)).round(0) == 1\n",
    "\n",
    "print(rescaled)"
   ]
  },
  {
   "cell_type": "markdown",
   "metadata": {},
   "source": [
    "We de-mean the values to make the portfolio dollar neutral, i.e. \\\\$ shorts = \\\\$ longs. \n",
    "\n",
    "This allows us to test our factor without being influenced by the market movement."
   ]
  },
  {
   "cell_type": "markdown",
   "metadata": {},
   "source": [
    "### Leverage  \n",
    "\n",
    "Leverage is the act of borrowing in order to invest. Borrowing cash in order to go long on more positions may magnify gains but also losses."
   ]
  },
  {
   "cell_type": "markdown",
   "metadata": {},
   "source": [
    "Leverage Ratio\n",
    "\n",
    "Long \\\\$2m but with a notional of $1m, ratio = 2 etc"
   ]
  },
  {
   "cell_type": "markdown",
   "metadata": {},
   "source": [
    "### Zipline Pipeline\n",
    "\n",
    "Zipline is an open source library used to build a pipeline of stocks from other 8000 securities which we can do calculations on such as factors (numerical outputs) or filters (boolean outputs)"
   ]
  },
  {
   "cell_type": "markdown",
   "metadata": {},
   "source": [
    "# Factor Models and Types of Factors"
   ]
  },
  {
   "cell_type": "markdown",
   "metadata": {},
   "source": [
    "Risk factors are factors that effect a stock variance\n",
    "\n",
    "Alpha factors are factors that effect a stocks mean (return)\n",
    "\n",
    "However once an alpha factor becomes too well known the returns are lost and it becomes a risk factor. \n",
    "\n",
    "You can visualize this by imagining only 1% of people in traffic using an app to direct them to their destination ASAP. It will find the least busy routes and those routes will remain not busy until a larger percentage of drivers are using the same app, at which point the time gains will be lost. "
   ]
  },
  {
   "cell_type": "markdown",
   "metadata": {},
   "source": [
    "#### Stock Price Movements"
   ]
  },
  {
   "cell_type": "markdown",
   "metadata": {},
   "source": [
    "Given how the high noise to signal nature of the stock market stock price movements are mostly a combination of the risk factors rather than the alpha factors. This is why we neutralize exposure to risk factors. "
   ]
  },
  {
   "cell_type": "markdown",
   "metadata": {},
   "source": [
    "#### Linear Factor Model"
   ]
  },
  {
   "cell_type": "markdown",
   "metadata": {},
   "source": [
    "<img src=\"Exercises/images/factor_model.png\" alt=\"Linear Factor Model\" width=\"400\"/>"
   ]
  },
  {
   "cell_type": "markdown",
   "metadata": {},
   "source": [
    "In plain English, a return is made up of known and unknown factors.  \n",
    "\n",
    "$S_i$ is the returns attributed to unknown factors.  \n",
    "$f_1$ is this factors value.   \n",
    "$f_{i1}$ is the sensitivity of the return based on this factor.\n",
    "\n",
    "So you can imagine that the return on an asset of a car manufacture is made up of factors such as cost of labor, cost of equipment, cost of interest rates etc."
   ]
  },
  {
   "cell_type": "markdown",
   "metadata": {},
   "source": [
    "#### Types of Factors"
   ]
  },
  {
   "cell_type": "markdown",
   "metadata": {},
   "source": [
    "Factors can be based on:\n",
    "\n",
    "- Price (certain price thresholds may have effects)\n",
    "- Volume (high volume may make the factors more pronounced)\n",
    "- Fundamentals (Earnings)\n",
    "- Fundamental Ratios (Price/Earnings)\n",
    "- Event driven (Issuing earnings reports or breaking a pipeline and spilling oil everywhere)\n",
    "- Index changes (getting dropped from SP500)\n",
    "- Pre and Post Events (prices may drift after events)\n",
    "- Analysts Ratings \n",
    "- Alternative Data (sat images, blog posts, amount of ads, network traffic can all be alphas)"
   ]
  },
  {
   "cell_type": "code",
   "execution_count": null,
   "metadata": {},
   "outputs": [],
   "source": []
  }
 ],
 "metadata": {
  "kernelspec": {
   "display_name": "Python 3",
   "language": "python",
   "name": "python3"
  },
  "language_info": {
   "codemirror_mode": {
    "name": "ipython",
    "version": 3
   },
   "file_extension": ".py",
   "mimetype": "text/x-python",
   "name": "python",
   "nbconvert_exporter": "python",
   "pygments_lexer": "ipython3",
   "version": "3.7.6"
  }
 },
 "nbformat": 4,
 "nbformat_minor": 4
}
