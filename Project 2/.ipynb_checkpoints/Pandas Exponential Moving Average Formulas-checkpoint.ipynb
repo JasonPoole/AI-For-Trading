{
 "cells": [
  {
   "cell_type": "code",
   "execution_count": 1,
   "metadata": {},
   "outputs": [],
   "source": [
    "import pandas as pd\n",
    "import numpy as np"
   ]
  },
  {
   "cell_type": "markdown",
   "metadata": {},
   "source": [
    "### Visualising exponential moving weighted average\n",
    "\n",
    "Pandas has two differetn ways of calculating the exponential moving weight averaged, adjusted and unadjusted.  \n",
    "Here are the formulas and examples of both \n",
    "\n",
    "##### Adjusted = False\n",
    "\n",
    "$$   y_t = \\alpha x_t + (1 - \\alpha) y_{t-1} $$"
   ]
  },
  {
   "cell_type": "code",
   "execution_count": 119,
   "metadata": {},
   "outputs": [
    {
     "name": "stdout",
     "output_type": "stream",
     "text": [
      "0    25\n",
      "1    28\n",
      "2    26\n",
      "dtype: int64\n",
      "\n",
      "Expected Values\n",
      "25\n",
      "26.5\n",
      "26.25\n",
      "\n",
      "Panda values:\n",
      "0    25.00\n",
      "1    26.50\n",
      "2    26.25\n",
      "dtype: float64\n"
     ]
    }
   ],
   "source": [
    "alpha = 0.5\n",
    "temperatures = [25, 28, 26]\n",
    "series_temps = pd.Series(temperatures)\n",
    "temps_ewm = series_temps.ewm(alpha=alpha,adjust=False).mean()\n",
    "\n",
    "print(series_temps)\n",
    "\n",
    "print('\\nExpected Values')\n",
    "print(25)\n",
    "print(0.5 * 25 + 0.5 * 28)\n",
    "print(26.5 * 0.5 + 26 * 0.5)\n",
    "\n",
    "print('\\nPanda values:')\n",
    "print(temps_ewm)"
   ]
  },
  {
   "cell_type": "markdown",
   "metadata": {},
   "source": [
    "##### Adjusted = True\n",
    "\n",
    "$$\n",
    "y_t = \\frac{x_t + (1 - \\alpha)x_{t-1} + (1 - \\alpha)^2 x_{t-2} + ...\n",
    "+ (1 - \\alpha)^t x_{0}}{1 + (1 - \\alpha) + (1 - \\alpha)^2 + ...\n",
    "+ (1 - \\alpha)^t}\n",
    "$$"
   ]
  },
  {
   "cell_type": "code",
   "execution_count": 117,
   "metadata": {},
   "outputs": [
    {
     "name": "stdout",
     "output_type": "stream",
     "text": [
      "\n",
      "Expected Values\n",
      "25\n",
      "27.0\n",
      "26.428571428571427\n",
      "\n",
      "Panda values:\n",
      "0    25.000000\n",
      "1    27.000000\n",
      "2    26.428571\n",
      "dtype: float64\n"
     ]
    }
   ],
   "source": [
    "temps_ewm = series_temps.ewm(alpha=0.5,adjust=True).mean()\n",
    "\n",
    "print('\\nExpected Values')\n",
    "print(25)\n",
    "print((28+(1 - alpha)*25)/(1 + (1 - alpha)))\n",
    "print((26 + (1-alpha)*28 + (1-alpha)**2*25)/(1 + (1-alpha) + (1-alpha)**2))\n",
    "\n",
    "print('\\nPanda values:')\n",
    "print(temps_ewm)"
   ]
  }
 ],
 "metadata": {
  "kernelspec": {
   "display_name": "Python 3",
   "language": "python",
   "name": "python3"
  },
  "language_info": {
   "codemirror_mode": {
    "name": "ipython",
    "version": 3
   },
   "file_extension": ".py",
   "mimetype": "text/x-python",
   "name": "python",
   "nbconvert_exporter": "python",
   "pygments_lexer": "ipython3",
   "version": "3.7.4"
  }
 },
 "nbformat": 4,
 "nbformat_minor": 4
}
