{
 "cells": [
  {
   "cell_type": "markdown",
   "metadata": {},
   "source": [
    "\n",
    "# Regression"
   ]
  },
  {
   "cell_type": "markdown",
   "metadata": {},
   "source": [
    "## Install packages"
   ]
  },
  {
   "cell_type": "code",
   "execution_count": 3,
   "metadata": {
    "scrolled": true
   },
   "outputs": [
    {
     "name": "stdout",
     "output_type": "stream",
     "text": [
      "Requirement already satisfied: statsmodels==0.9.0 in c:\\users\\j\\appdata\\roaming\\python\\python37\\site-packages (0.9.0)\n",
      "Requirement already satisfied: patsy in e:\\anaconda3\\lib\\site-packages (from statsmodels==0.9.0) (0.5.1)\n",
      "Requirement already satisfied: pandas in e:\\anaconda3\\lib\\site-packages (from statsmodels==0.9.0) (0.25.1)\n",
      "Requirement already satisfied: six in e:\\anaconda3\\lib\\site-packages (from patsy->statsmodels==0.9.0) (1.12.0)\n",
      "Requirement already satisfied: numpy>=1.4 in e:\\anaconda3\\lib\\site-packages (from patsy->statsmodels==0.9.0) (1.16.5)\n",
      "Requirement already satisfied: pytz>=2017.2 in e:\\anaconda3\\lib\\site-packages (from pandas->statsmodels==0.9.0) (2019.3)\n",
      "Requirement already satisfied: python-dateutil>=2.6.1 in e:\\anaconda3\\lib\\site-packages (from pandas->statsmodels==0.9.0) (2.8.0)\n"
     ]
    }
   ],
   "source": [
    "import sys\n",
    "!{sys.executable} -m pip install statsmodels==0.9.0\n",
    "!{sys.executable} -m pip install statsmodels==0.9.0"
   ]
  },
  {
   "cell_type": "code",
   "execution_count": null,
   "metadata": {},
   "outputs": [],
   "source": [
    "import pandas as pd\n",
    "import numpy as np\n",
    "import os\n",
    "import helper\n",
    "import quiz_tests\n",
    "import matplotlib.pyplot as plt"
   ]
  },
  {
   "cell_type": "code",
   "execution_count": null,
   "metadata": {},
   "outputs": [],
   "source": [
    "plt.style.use('ggplot')\n",
    "plt.rcParams['figure.figsize'] = (14, 8)"
   ]
  },
  {
   "cell_type": "markdown",
   "metadata": {},
   "source": [
    "## Simulate two stock prices\n"
   ]
  },
  {
   "cell_type": "code",
   "execution_count": null,
   "metadata": {},
   "outputs": [],
   "source": [
    "# just set the seed for the random number generator\n",
    "np.random.seed(100)\n",
    "# use returns to create a price series\n",
    "drift = 100\n",
    "r0 = pd.Series(np.random.normal(0, 1, 1000))\n",
    "s0 = pd.Series(np.cumsum(r0), name='s0') + drift\n",
    "\n",
    "noise1 = np.random.normal(0, 0.4, 1000)\n",
    "drift1 = 50\n",
    "r1 = r0 + noise1\n",
    "s1 = pd.Series(np.cumsum(r1), name='s1') + drift1\n",
    "\n",
    "noise2 = np.random.normal(0, 0.4, 1000)\n",
    "drift2 = 60\n",
    "r2 = r0 + noise2\n",
    "s2 = pd.Series(np.cumsum(r2), name='s2') + drift2\n",
    "\n",
    "pd.concat([s1, s2], axis=1).plot(figsize=(15,6))\n",
    "plt.show()"
   ]
  },
  {
   "cell_type": "code",
   "execution_count": null,
   "metadata": {},
   "outputs": [],
   "source": [
    "## Plot data with scatterplot\n",
    "sc = plt.scatter(s2, s1, s=30, edgecolor='b', alpha=0.7)\n",
    "plt.xlabel('s2')\n",
    "plt.ylabel('s1');"
   ]
  },
  {
   "cell_type": "code",
   "execution_count": null,
   "metadata": {},
   "outputs": [],
   "source": [
    "from sklearn.linear_model import LinearRegression"
   ]
  },
  {
   "cell_type": "markdown",
   "metadata": {},
   "source": [
    "## Quiz: Linear Regression\n",
    "\n",
    "Note that the LinearRegression().fit() expects 2D numpy arrays.  Since s1 and s2 are pandas series, we can use Series.values to get the values as a numpy array. Since these are 1D arrays, we can use numpy.reshape(-1,1) to make these 1000 row by 1 column 2 dimensional arrays.  \n",
    "\n",
    "The coefficients of the linear regression, $\\beta$ and $intercept$ for the regression line:  \n",
    "$y = \\beta \\times x + intercept$  \n",
    "Can be obtained after fitting to the data.  Use `LinearRegression.coef_` for the slope (beta coefficients) and `LinearRegression.intercept_` for the intercept.  You may want to practice accessing these outside of the function definition, to see if you'll need additional brackets `[]` to access the values."
   ]
  },
  {
   "cell_type": "code",
   "execution_count": null,
   "metadata": {},
   "outputs": [],
   "source": [
    "def regression_slope_and_intercept(xSeries, ySeries):\n",
    "    \"\"\"\n",
    "    xSeries: pandas series, x variable\n",
    "    ySeries: pandas series, y variable\n",
    "    \"\"\"\n",
    "    lr = LinearRegression()\n",
    "    #TODO: get the values from each series, reshape to be 2 dimensional\n",
    "    #set s1 to the x variable, s2 to the y variable\n",
    "    xVar = \n",
    "    yVar = \n",
    "    \n",
    "    #TODO: call LinearRegression.fit().  Pass in the x variable then y variable\n",
    "    \n",
    "    #TODO: obtain the slope and intercept\n",
    "    slope = \n",
    "    intercept = \n",
    "    \n",
    "    return (slope, intercept)\n",
    "\n",
    "quiz_tests.test_regression_slope_and_intercept(regression_slope_and_intercept);"
   ]
  },
  {
   "cell_type": "code",
   "execution_count": null,
   "metadata": {},
   "outputs": [],
   "source": [
    "slope, intercept = regression_slope_and_intercept(s1,s2);\n",
    "print(f\"slope {slope:.2f} and intercept {intercept:.2f}\")"
   ]
  },
  {
   "cell_type": "markdown",
   "metadata": {},
   "source": [
    "### Plot the fitted regression line over the scatterplot"
   ]
  },
  {
   "cell_type": "code",
   "execution_count": null,
   "metadata": {
    "scrolled": false
   },
   "outputs": [],
   "source": [
    "plt.scatter(s2, s1, s=30, edgecolor='b', alpha=0.5);\n",
    "x = np.linspace(s1.min()-5, s1.max()+5, 2)\n",
    "yPred = slope * x + intercept\n",
    "plt.plot(yPred,x, alpha=0.2, lw=3, color='r')\n",
    "plt.xlabel('s2')\n",
    "plt.ylabel('s1');"
   ]
  },
  {
   "cell_type": "markdown",
   "metadata": {},
   "source": [
    "If you're stuck, you can also check out the solution [here](regression_solution.ipynb)"
   ]
  }
 ],
 "metadata": {
  "kernelspec": {
   "display_name": "Python 3",
   "language": "python",
   "name": "python3"
  },
  "language_info": {
   "codemirror_mode": {
    "name": "ipython",
    "version": 3
   },
   "file_extension": ".py",
   "mimetype": "text/x-python",
   "name": "python",
   "nbconvert_exporter": "python",
   "pygments_lexer": "ipython3",
   "version": "3.7.4"
  }
 },
 "nbformat": 4,
 "nbformat_minor": 2
}
